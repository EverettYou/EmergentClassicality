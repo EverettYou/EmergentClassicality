{
 "cells": [
  {
   "cell_type": "code",
   "execution_count": null,
   "metadata": {},
   "outputs": [],
   "source": [
    "\n",
    "\n",
    "# Create a quantum circuit with 3 qubits\n",
    "qc = QuantumCircuit(3)\n",
    "\n",
    "# Initialize all qubits in the |0⟩ state\n",
    "qc.initialize([1, 0], 0)  # Initialize qubit 0 in |0⟩\n",
    "qc.initialize([1, 0], 1)  # Initialize qubit 1 in |0⟩\n",
    "qc.initialize([1, 0], 2)  # Initialize qubit 2 in |0⟩\n",
    "\n",
    "# Apply a Hadamard gate to qubit 0\n",
    "qc.h(0)\n",
    "\n",
    "# Apply CNOT gates from qubit 0 to qubits 1 and 2\n",
    "qc.cx(0, 1)  # CNOT from qubit 0 to qubit 1\n",
    "qc.cx(0, 2)  # CNOT from qubit 0 to qubit 2\n",
    "\n",
    "# Measure all qubits in the X-axis (Hadamard basis)\n",
    "qc.h(0)\n",
    "qc.h(1)\n",
    "qc.h(2)\n",
    "\n",
    "# Add measurements to the circuit\n",
    "qc.measure_all()\n",
    "qc.draw(output='mpl')\n",
    "plt.show()\n",
    "\n",
    "\n",
    "# Simulate the circuit and get measurement results\n",
    "simulator = Aer.get_backend('qasm_simulator')\n",
    "job = execute(qc, simulator, shots=1024)  # You can adjust the number of shots\n",
    "result = job.result()\n",
    "counts = result.get_counts(qc)\n",
    "\n",
    "# Create a list of binary state labels\n",
    "state_labels = [format(i, '03b') for i in range(8)]\n",
    "\n",
    "# Extract the counts in the order of the state labels\n",
    "state_counts = [counts.get(label, 0) for label in state_labels]\n",
    "\n",
    "# Create a bar chart with x-axis labels\n",
    "plt.bar(state_labels, state_counts)\n",
    "plt.xlabel('Binary States')\n",
    "plt.ylabel('Counts')\n",
    "plt.title('Measurement Results')\n",
    "plt.show()\n"
   ]
  },
  {
   "cell_type": "code",
   "execution_count": null,
   "metadata": {},
   "outputs": [],
   "source": [
    "# Iterate through the qubits and add their measurement results to the DataFrame\n",
    "# measurement_bases = random_measurement_basis(nr_qubits)\n",
    "# for qubit in range(nr_qubits):\n",
    "#     basis = measurement_bases[qubit]\n",
    "#     result = int(list(counts.keys())[0][nr_qubits - 1 - qubit])  # Extract the result\n",
    "#     df = pd.concat([df, pd.DataFrame({\"Measurement Basis\": [basis], \"Measured Result\": [result]})])\n"
   ]
  }
 ],
 "metadata": {
  "language_info": {
   "name": "python"
  },
  "orig_nbformat": 4
 },
 "nbformat": 4,
 "nbformat_minor": 2
}
