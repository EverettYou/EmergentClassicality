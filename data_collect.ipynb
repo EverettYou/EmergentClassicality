{
 "cells": [
  {
   "cell_type": "markdown",
   "id": "c521c87c-80a8-49b8-aeb5-b2315fe22957",
   "metadata": {},
   "source": [
    "# Classical Shadow Transformer"
   ]
  },
  {
   "cell_type": "markdown",
   "id": "19afc649-dd30-4b97-8e80-4d4af3a53bdb",
   "metadata": {},
   "source": [
    "## Initialization\n",
    "\n",
    "\n",
    "ADD, COMMIT, PUSH"
   ]
  },
  {
   "cell_type": "code",
   "execution_count": 9,
   "id": "d89fe125-8a42-446d-a0c5-c3c054625614",
   "metadata": {},
   "outputs": [],
   "source": [
    "%run 'CST.py'\n",
    "import matplotlib.pyplot as plt\n",
    "import pickle\n",
    "device = torch.device('cpu') # 'cpu', 'cuda', 'mps' ..."
   ]
  },
  {
   "cell_type": "markdown",
   "id": "1d0b2f56-b6bf-44dd-bcbb-e06ed670bab8",
   "metadata": {
    "jp-MarkdownHeadingCollapsed": true,
    "tags": []
   },
   "source": [
    "## Testing"
   ]
  },
  {
   "cell_type": "markdown",
   "id": "97e105e3-0435-42c0-9e2c-609b868e4e92",
   "metadata": {
    "jp-MarkdownHeadingCollapsed": true,
    "tags": []
   },
   "source": [
    "### Transformer"
   ]
  },
  {
   "cell_type": "markdown",
   "id": "1d2f92b4-fda7-40cc-9902-086c9926ecf2",
   "metadata": {
    "jp-MarkdownHeadingCollapsed": true,
    "tags": []
   },
   "source": [
    "#### Test 1: Log Probability Estimation"
   ]
  },
  {
   "cell_type": "markdown",
   "id": "115a596c-62c0-4a76-97ce-cdcb1cd12d01",
   "metadata": {},
   "source": [
    "**Goal:** show that the log probability accumulated at sampling is the same as log probability evaluated by the model directly."
   ]
  },
  {
   "cell_type": "markdown",
   "id": "235034e9-ca67-449b-9105-f0dbdda9fa31",
   "metadata": {},
   "source": [
    "Create a model and put into evaluation mode (to disable dropout)."
   ]
  },
  {
   "cell_type": "code",
   "execution_count": 10,
   "id": "74c8b276-db01-4f36-9b90-63948af5cb3e",
   "metadata": {},
   "outputs": [],
   "source": [
    "tf = Transformer(outtk_size=2)\n",
    "tf.eval()\n",
    "x = torch.tensor([[4],[4],[5],[5],[6],[6]])"
   ]
  },
  {
   "cell_type": "code",
   "execution_count": 11,
   "id": "9d419e68-a3b7-4b63-9d66-b70854ea09bd",
   "metadata": {},
   "outputs": [
    {
     "data": {
      "text/plain": [
       "(tensor([[2],\n",
       "         [1],\n",
       "         [1],\n",
       "         [1],\n",
       "         [1],\n",
       "         [2]]),\n",
       " tensor([-0.5793, -0.8216, -0.7480, -0.7480, -1.0238, -0.4451]))"
      ]
     },
     "execution_count": 11,
     "metadata": {},
     "output_type": "execute_result"
    }
   ],
   "source": [
    "y, logprob = tf.sample(x, 1, need_logprob=True)\n",
    "y, logprob"
   ]
  },
  {
   "cell_type": "code",
   "execution_count": 12,
   "id": "2cb3d9dd-bff0-43e7-ac81-3d9317e2c7d6",
   "metadata": {
    "tags": []
   },
   "outputs": [
    {
     "data": {
      "text/plain": [
       "tensor([-0.5793, -0.8216, -0.7480, -0.7480, -1.0238, -0.4451],\n",
       "       grad_fn=<SumBackward1>)"
      ]
     },
     "execution_count": 12,
     "metadata": {},
     "output_type": "execute_result"
    }
   ],
   "source": [
    "tf.logprob(x, y)"
   ]
  },
  {
   "cell_type": "markdown",
   "id": "06d3553e-1cbe-4645-96f8-a4bd838380a5",
   "metadata": {},
   "source": [
    "Results are matched up."
   ]
  },
  {
   "cell_type": "markdown",
   "id": "2a89739d-1656-4129-bf74-6c0d17574fde",
   "metadata": {
    "jp-MarkdownHeadingCollapsed": true,
    "tags": []
   },
   "source": [
    "#### Test 2: Generative Modeling"
   ]
  },
  {
   "cell_type": "markdown",
   "id": "0f0d0418-da1c-4ebb-8f8a-6167c7d43fc2",
   "metadata": {},
   "source": [
    "**Goal:** test the ability of the transformer model to learn sequence-to-sequence map."
   ]
  },
  {
   "cell_type": "code",
   "execution_count": 13,
   "id": "1a8df019-0a2f-4d71-b247-2e7fce9d40b3",
   "metadata": {},
   "outputs": [],
   "source": [
    "tf = Transformer(outtk_size=2)\n",
    "x = torch.tensor([[4],[4],[5],[5],[6],[6],[6]])\n",
    "y = torch.tensor([[1],[1],[1],[2],[1],[2],[2]])\n",
    "y1 = torch.tensor([[1],[2],[1],[2],[1],[2],[2]])"
   ]
  },
  {
   "cell_type": "code",
   "execution_count": 14,
   "id": "576ac1c1-b4fe-4aeb-aabd-fddfe73b7b2a",
   "metadata": {},
   "outputs": [],
   "source": [
    "optimizer = torch.optim.Adam(tf.parameters(), lr=0.001)"
   ]
  },
  {
   "cell_type": "code",
   "execution_count": 15,
   "id": "6f25a2a4-18fe-4522-aeed-658dd9317880",
   "metadata": {},
   "outputs": [
    {
     "name": "stdout",
     "output_type": "stream",
     "text": [
      "  0:  0.83488\n",
      "  1:  0.64065\n",
      "  2:  0.61779\n",
      "  3:   0.6262\n",
      "  4:  0.58149\n",
      "  5:    0.541\n",
      "  6:  0.51471\n",
      "  7:  0.50461\n",
      "  8:  0.49877\n",
      "  9:  0.50706\n"
     ]
    }
   ],
   "source": [
    "tf.train()\n",
    "for epoch in range(10):\n",
    "    optimizer.zero_grad()\n",
    "    loss = -tf.logprob(x, y).mean()\n",
    "    loss.backward()\n",
    "    optimizer.step()\n",
    "    print('{:3d}: {:8.5g}'.format(epoch, loss.item()))"
   ]
  },
  {
   "cell_type": "markdown",
   "id": "dd795a2e-3c16-4a52-b916-b629c07a77f1",
   "metadata": {},
   "source": [
    "Learns to predict $y$ from $x$."
   ]
  },
  {
   "cell_type": "code",
   "execution_count": 16,
   "id": "7835801e-f8d9-4e30-be5d-f0816f5a26f5",
   "metadata": {},
   "outputs": [
    {
     "data": {
      "text/plain": [
       "[0.967829167842865,\n",
       " 0.032170817255973816,\n",
       " 0.6482669115066528,\n",
       " 0.3517330586910248,\n",
       " 0.37630075216293335,\n",
       " 0.6236993074417114,\n",
       " 0.6236992478370667]"
      ]
     },
     "execution_count": 16,
     "metadata": {},
     "output_type": "execute_result"
    }
   ],
   "source": [
    "tf.eval()\n",
    "tf.logprob(x, y1).exp().tolist()"
   ]
  },
  {
   "cell_type": "markdown",
   "id": "8f795833-3f5a-4133-9f0c-fb816b24eb4c",
   "metadata": {
    "jp-MarkdownHeadingCollapsed": true,
    "tags": []
   },
   "source": [
    "#### Test 3: VAE loss"
   ]
  },
  {
   "cell_type": "markdown",
   "id": "5b39eda9-b791-4bc8-8a6f-4c1e08193bd8",
   "metadata": {},
   "source": [
    "**Goal**: test training the transformer with VAE bottleneck"
   ]
  },
  {
   "cell_type": "code",
   "execution_count": 17,
   "id": "d7ebe248-da2a-4010-9423-1f75e802cf8d",
   "metadata": {},
   "outputs": [],
   "source": [
    "tf = Transformer(outtk_size=2)\n",
    "x = torch.tensor([[4],[4],[5],[5],[6],[6],[6]])\n",
    "y = torch.tensor([[1],[1],[1],[2],[1],[2],[2]])\n",
    "y1 = torch.tensor([[1],[2],[1],[2],[1],[2],[2]])"
   ]
  },
  {
   "cell_type": "code",
   "execution_count": 18,
   "id": "4b5ebfd6-fb38-4bd8-a224-1551ad8bd58b",
   "metadata": {},
   "outputs": [],
   "source": [
    "optimizer = torch.optim.Adam(tf.parameters(), lr=0.001)"
   ]
  },
  {
   "cell_type": "code",
   "execution_count": 19,
   "id": "ed6de0be-360a-470d-b106-9b2541f722d5",
   "metadata": {},
   "outputs": [
    {
     "name": "stdout",
     "output_type": "stream",
     "text": [
      "  0:  0.78347 -0.78347     1.26\n",
      "  1:  0.63716 -0.63716   1.2685\n",
      "  2:   0.5901  -0.5901   1.2734\n",
      "  3:  0.53979 -0.53979   1.2854\n",
      "  4:  0.56423 -0.56423   1.2714\n",
      "  5:  0.54145 -0.54145   1.2672\n",
      "  6:  0.51828 -0.51828   1.2819\n",
      "  7:  0.46711 -0.46711   1.2853\n",
      "  8:  0.51398 -0.51398   1.3073\n",
      "  9:  0.47194 -0.47194   1.3208\n"
     ]
    }
   ],
   "source": [
    "tf.train()\n",
    "for epoch in range(10):\n",
    "    optimizer.zero_grad()\n",
    "    loss, logprob, kld = tf.loss(x, y, beta=0.)\n",
    "    loss.backward()\n",
    "    optimizer.step()\n",
    "    print(f'{epoch:3d}: {loss.item():8.5g} {logprob.item():8.5g} {kld.item():8.5g}')"
   ]
  },
  {
   "cell_type": "markdown",
   "id": "f0777c5b-732a-4030-9ded-3b813d079199",
   "metadata": {},
   "source": [
    "Learns to predict $y$ from $x$."
   ]
  },
  {
   "cell_type": "code",
   "execution_count": 21,
   "id": "69af57fe-69f3-4669-9785-2cf5231e3e87",
   "metadata": {},
   "outputs": [
    {
     "data": {
      "text/plain": [
       "[0.9753502607345581,\n",
       " 0.024649787694215775,\n",
       " 0.48954498767852783,\n",
       " 0.5104550719261169,\n",
       " 0.2665882110595703,\n",
       " 0.7334117889404297,\n",
       " 0.7334117889404297]"
      ]
     },
     "execution_count": 21,
     "metadata": {},
     "output_type": "execute_result"
    }
   ],
   "source": [
    "tf.eval()\n",
    "tf.logprob(x, y1).exp().tolist()"
   ]
  },
  {
   "cell_type": "markdown",
   "id": "cf4fb0d1-6f77-4e03-805d-7b10801de75d",
   "metadata": {},
   "source": [
    "Now the accuracy can be controlled by the hyperparameter $\\beta$."
   ]
  },
  {
   "cell_type": "markdown",
   "id": "96e7e10c-0482-47a2-8e0f-aa9c3bc9430d",
   "metadata": {
    "jp-MarkdownHeadingCollapsed": true,
    "tags": []
   },
   "source": [
    "#### Test 4: Sampling"
   ]
  },
  {
   "cell_type": "markdown",
   "id": "2ff30b67-3f0b-47a9-9399-50eb331face9",
   "metadata": {},
   "source": [
    "**Goal**: test sampling and completion."
   ]
  },
  {
   "cell_type": "code",
   "execution_count": 22,
   "id": "2771c8c8-3569-4125-8b76-5df291f2409f",
   "metadata": {},
   "outputs": [
    {
     "data": {
      "text/plain": [
       "tensor([[2, 2, 2, 2],\n",
       "        [2, 2, 1, 2],\n",
       "        [2, 1, 1, 2]])"
      ]
     },
     "execution_count": 22,
     "metadata": {},
     "output_type": "execute_result"
    }
   ],
   "source": [
    "tf = Transformer(outtk_size=2)\n",
    "x = torch.randint(4,7,(3,5))\n",
    "tf.sample(x)"
   ]
  },
  {
   "cell_type": "markdown",
   "id": "7682be8f-68b2-4d74-9303-1abdb222a0fe",
   "metadata": {},
   "source": [
    "Completion task."
   ]
  },
  {
   "cell_type": "code",
   "execution_count": 23,
   "id": "fe82fd87-1d2f-4ec6-9ee9-893a1006d5d8",
   "metadata": {},
   "outputs": [
    {
     "data": {
      "text/plain": [
       "tensor([[2, 2],\n",
       "        [2, 2],\n",
       "        [2, 1]])"
      ]
     },
     "execution_count": 23,
     "metadata": {},
     "output_type": "execute_result"
    }
   ],
   "source": [
    "y = torch.randint(1,3,(3,2))\n",
    "y"
   ]
  },
  {
   "cell_type": "code",
   "execution_count": 24,
   "id": "c0d05e36-40b1-4bae-8a2c-ff9cf08e522d",
   "metadata": {},
   "outputs": [
    {
     "data": {
      "text/plain": [
       "tensor([[2, 2, 2, 2],\n",
       "        [2, 2, 2, 2],\n",
       "        [2, 1, 2, 1]])"
      ]
     },
     "execution_count": 24,
     "metadata": {},
     "output_type": "execute_result"
    }
   ],
   "source": [
    "tf.sample(x, tgt_seq=y)"
   ]
  },
  {
   "cell_type": "markdown",
   "id": "0ac92617-cb93-4153-8a0c-326042ccf9e5",
   "metadata": {
    "jp-MarkdownHeadingCollapsed": true,
    "tags": []
   },
   "source": [
    "### Operator"
   ]
  },
  {
   "cell_type": "markdown",
   "id": "a3c2c72a-d335-48a6-aa29-57f50e1badb3",
   "metadata": {
    "jp-MarkdownHeadingCollapsed": true,
    "tags": []
   },
   "source": [
    "#### Test 1: Operator Algebra"
   ]
  },
  {
   "cell_type": "markdown",
   "id": "71ee9df4-3ec2-42c5-84ea-2584e974007a",
   "metadata": {},
   "source": [
    "**Goal:** test operator algebra are correct"
   ]
  },
  {
   "cell_type": "code",
   "execution_count": 25,
   "id": "1e958809-1e0d-46e0-9822-dfac89af38d3",
   "metadata": {},
   "outputs": [
    {
     "data": {
      "text/plain": [
       "[I, X, Y, Z]"
      ]
     },
     "execution_count": 25,
     "metadata": {},
     "output_type": "execute_result"
    }
   ],
   "source": [
    "ops = [pauli([i]) for i in range(4)]\n",
    "ops"
   ]
  },
  {
   "cell_type": "markdown",
   "id": "c9f8a420-220b-49ee-917c-6a7ff0b18609",
   "metadata": {},
   "source": [
    "Multiplication table of Pauli operators"
   ]
  },
  {
   "cell_type": "code",
   "execution_count": 26,
   "id": "0386bb23-2288-4c7e-bc3b-e39080ce9f92",
   "metadata": {},
   "outputs": [
    {
     "name": "stdout",
     "output_type": "stream",
     "text": [
      "I @ I = I\n",
      "I @ X = X\n",
      "I @ Y = Y\n",
      "I @ Z = Z\n",
      "X @ I = X\n",
      "X @ X = I\n",
      "X @ Y = i Z\n",
      "X @ Z = -i Y\n",
      "Y @ I = Y\n",
      "Y @ X = -i Z\n",
      "Y @ Y = I\n",
      "Y @ Z = i X\n",
      "Z @ I = Z\n",
      "Z @ X = i Y\n",
      "Z @ Y = -i X\n",
      "Z @ Z = I\n"
     ]
    }
   ],
   "source": [
    "for op1 in ops: \n",
    "    for op2 in ops:\n",
    "        print(f'{op1} @ {op2} = {op1 @ op2}')"
   ]
  },
  {
   "cell_type": "markdown",
   "id": "648cdd31-9c93-4a61-8112-5a6a1e8b4e83",
   "metadata": {
    "jp-MarkdownHeadingCollapsed": true,
    "tags": []
   },
   "source": [
    "#### Test 2: Operator Gradient"
   ]
  },
  {
   "cell_type": "markdown",
   "id": "207da3cd-3dd6-4743-b656-33e3c016e234",
   "metadata": {},
   "source": [
    "Example: construct an operator"
   ]
  },
  {
   "cell_type": "code",
   "execution_count": 27,
   "id": "823d8aec-1b90-4f1e-b6b4-43c059542a6f",
   "metadata": {},
   "outputs": [
    {
     "data": {
      "text/plain": [
       "X + i Y -2 Z"
      ]
     },
     "execution_count": 27,
     "metadata": {},
     "output_type": "execute_result"
    }
   ],
   "source": [
    "O = pauli('X') + 1j * pauli('Y') - 2 * pauli('Z')\n",
    "O"
   ]
  },
  {
   "cell_type": "code",
   "execution_count": 28,
   "id": "151aac7c-704c-4107-a7ab-937efd137193",
   "metadata": {},
   "outputs": [
    {
     "data": {
      "text/plain": [
       "X + i Y -2 Z (requires_grad=True)"
      ]
     },
     "execution_count": 28,
     "metadata": {},
     "output_type": "execute_result"
    }
   ],
   "source": [
    "O = O.requires_grad_()\n",
    "O"
   ]
  },
  {
   "cell_type": "code",
   "execution_count": 29,
   "id": "11e9e9c5-a183-4661-8ee3-ee2dd63a1cf6",
   "metadata": {},
   "outputs": [
    {
     "data": {
      "text/plain": [
       "6 I -4 X -2 Z (grad_fn=<class 'IndexBackward0'>)"
      ]
     },
     "execution_count": 29,
     "metadata": {},
     "output_type": "execute_result"
    }
   ],
   "source": [
    "O.H @ O"
   ]
  },
  {
   "cell_type": "markdown",
   "id": "441bc50e-59ee-47e4-80c3-30711204767d",
   "metadata": {},
   "source": [
    "Operator norm is defined to be $\\Vert O\\Vert^2=\\mathrm{Tr}\\,O^\\dagger O$"
   ]
  },
  {
   "cell_type": "code",
   "execution_count": 30,
   "id": "2ef4e9f9-1944-4f44-b333-8613da1aa85d",
   "metadata": {},
   "outputs": [
    {
     "data": {
      "text/plain": [
       "tensor(6., grad_fn=<SelectBackward0>)"
      ]
     },
     "execution_count": 30,
     "metadata": {},
     "output_type": "execute_result"
    }
   ],
   "source": [
    "O.norm()"
   ]
  },
  {
   "cell_type": "code",
   "execution_count": 31,
   "id": "a20ba11b-e7c8-4e8b-9f8d-ded07e8ac9d9",
   "metadata": {},
   "outputs": [
    {
     "data": {
      "text/plain": [
       "2 X + (0.00+2.00i) Y -4 Z"
      ]
     },
     "execution_count": 31,
     "metadata": {},
     "output_type": "execute_result"
    }
   ],
   "source": [
    "O.norm().backward()\n",
    "O.grad"
   ]
  },
  {
   "cell_type": "markdown",
   "id": "fae5c69d-ae5c-4eab-8566-d25c206727ea",
   "metadata": {
    "jp-MarkdownHeadingCollapsed": true,
    "tags": []
   },
   "source": [
    "### Shadow"
   ]
  },
  {
   "cell_type": "markdown",
   "id": "ff165dd3-0b29-41da-9e38-b3d24c0630ea",
   "metadata": {
    "jp-MarkdownHeadingCollapsed": true,
    "tags": []
   },
   "source": [
    "#### Test 1: Shadow Evaluate "
   ]
  },
  {
   "cell_type": "markdown",
   "id": "4c003d71-f5f7-44b3-a574-8e93681dc562",
   "metadata": {},
   "source": [
    "**Goal:** evaluate operator expectation value on a shadow dataset."
   ]
  },
  {
   "cell_type": "code",
   "execution_count": 37,
   "id": "601bf235-543d-4ef6-8bac-f2f8fdffd549",
   "metadata": {},
   "outputs": [
    {
     "data": {
      "text/plain": [
       "| -X +Y +Y |\n",
       "| -Y +Z +Z |\n",
       "| -Z -Z +X |\n",
       "| -Y -Z +X |\n",
       "| +Y -X +Y |\n",
       "| +Y +Y -Z |\n",
       "| -X -Z +Y |\n",
       "| -X -Y +Z |\n",
       "| -Z -X -Z |\n",
       "| -Z +X -Z |\n",
       "| -Y +X +Z |\n",
       "| -X +X -X |\n",
       "| -Z -Z -Y |\n",
       "| -Y +X +Y |\n",
       "| +Y +Y -Z |\n",
       "| -X -Y +X |\n",
       "..."
      ]
     },
     "execution_count": 37,
     "metadata": {},
     "output_type": "execute_result"
    }
   ],
   "source": [
    "shd= ghz_shadow(3, 1000)\n",
    "shd"
   ]
  },
  {
   "cell_type": "code",
   "execution_count": 38,
   "id": "785f8c77-d592-48a2-a2a7-fb02ce38f295",
   "metadata": {},
   "outputs": [
    {
     "data": {
      "text/plain": [
       "tensor(0.9450+0.j)"
      ]
     },
     "execution_count": 38,
     "metadata": {},
     "output_type": "execute_result"
    }
   ],
   "source": [
    "pauli('ZZI').expectation(shd)"
   ]
  },
  {
   "cell_type": "markdown",
   "id": "aa3d377d-323c-4be0-a58b-706a7f67950d",
   "metadata": {},
   "source": [
    "### ClassicalShadowTransformer"
   ]
  },
  {
   "cell_type": "markdown",
   "id": "065ee90a-0b25-4898-a0e1-0a661e5709a9",
   "metadata": {
    "jp-MarkdownHeadingCollapsed": true,
    "tags": []
   },
   "source": [
    "#### Test 1: Sampling"
   ]
  },
  {
   "cell_type": "markdown",
   "id": "dfd732b7-025f-4290-a9cc-f3629719e9a0",
   "metadata": {},
   "source": [
    "**Goal**: test sampling and state reconstruction"
   ]
  },
  {
   "cell_type": "code",
   "execution_count": 39,
   "id": "aa86f48a-5498-43c4-a459-6b5695e2bd69",
   "metadata": {},
   "outputs": [
    {
     "data": {
      "text/plain": [
       "| +Z -Y |\n",
       "| +Y -Z |\n",
       "| -Y -Z |\n",
       "| -X -Y |\n",
       "| +Y +X |\n",
       "| -Z -Z |"
      ]
     },
     "execution_count": 39,
     "metadata": {},
     "output_type": "execute_result"
    }
   ],
   "source": [
    "cst = ClassicalShadowTransformer(2,0)\n",
    "cst.sample(6)"
   ]
  },
  {
   "cell_type": "markdown",
   "id": "fdecda7f-6c35-4696-bf49-b56ef20f2c1f",
   "metadata": {},
   "source": [
    "Reconstruct density operator (matrix)."
   ]
  },
  {
   "cell_type": "code",
   "execution_count": 40,
   "id": "569c3ba8-d99d-47c2-b75a-371a6c14402b",
   "metadata": {},
   "outputs": [
    {
     "data": {
      "text/plain": [
       "1.00 II -0.44 IX -0.49 IY -0.52 IZ -0.27 XI + 0.35 XX + 0.36 XY + 0.40 XZ -0.30 YI + 0.37 YX + 0.37 YY + 0.36 YZ -0.36 ZI + 0.40 ZX + 0.37 ZY + 0.42 ZZ (grad_fn=<class 'SqueezeBackward4'>)"
      ]
     },
     "execution_count": 40,
     "metadata": {},
     "output_type": "execute_result"
    }
   ],
   "source": [
    "rho = cst.rho()\n",
    "rho"
   ]
  },
  {
   "cell_type": "code",
   "execution_count": 41,
   "id": "60a71544-95a1-4f43-a8c0-9e053860e055",
   "metadata": {},
   "outputs": [
    {
     "data": {
      "text/plain": [
       "tensor([[ 0.1372+0.0000j, -0.0089+0.0301j,  0.0312-0.0153j, -0.0043-0.1836j],\n",
       "        [-0.0089-0.0301j,  0.1851+0.0000j,  0.1797-0.0038j, -0.1667+0.1631j],\n",
       "        [ 0.0312+0.0153j,  0.1797+0.0038j,  0.1037+0.0000j, -0.2087+0.2164j],\n",
       "        [-0.0043+0.1836j, -0.1667-0.1631j, -0.2087-0.2164j,  0.5739+0.0000j]],\n",
       "       grad_fn=<DivBackward0>)"
      ]
     },
     "execution_count": 41,
     "metadata": {},
     "output_type": "execute_result"
    }
   ],
   "source": [
    "rhomat = rho.matrix_form() / 2**2\n",
    "rhomat"
   ]
  },
  {
   "cell_type": "code",
   "execution_count": 42,
   "id": "fc1bc9db-d181-43ee-a261-53874893ca49",
   "metadata": {},
   "outputs": [
    {
     "data": {
      "text/plain": [
       "tensor([-0.1097,  0.0404,  0.1927,  0.8766], grad_fn=<LinalgEighBackward0>)"
      ]
     },
     "execution_count": 42,
     "metadata": {},
     "output_type": "execute_result"
    }
   ],
   "source": [
    "torch.linalg.eigvalsh(rhomat)"
   ]
  },
  {
   "cell_type": "markdown",
   "id": "a7b357f8-2319-4091-ae7c-cf4c8b706f95",
   "metadata": {
    "jp-MarkdownHeadingCollapsed": true,
    "tags": []
   },
   "source": [
    "#### Test 2: Evaluation"
   ]
  },
  {
   "cell_type": "markdown",
   "id": "4c9334dd-037b-42ea-8ced-9c9848840051",
   "metadata": {},
   "source": [
    "**Goal**: test logprob and loss function evaluation."
   ]
  },
  {
   "cell_type": "code",
   "execution_count": 43,
   "id": "95ddf777-1a86-4237-9eed-6865aefab7c9",
   "metadata": {},
   "outputs": [],
   "source": [
    "cst = ClassicalShadowTransformer(2,0)\n",
    "cst.eval()\n",
    "shd = ghz_shadow(2,10)"
   ]
  },
  {
   "cell_type": "code",
   "execution_count": 44,
   "id": "d5f095f1-32d2-44ef-bb9d-cdf0d681fb4b",
   "metadata": {},
   "outputs": [
    {
     "data": {
      "text/plain": [
       "tensor([-1.8768, -1.2028, -0.8698, -2.3538, -1.0704, -1.0704, -0.9098, -0.7516,\n",
       "        -2.3681, -0.7461], grad_fn=<SumBackward1>)"
      ]
     },
     "execution_count": 44,
     "metadata": {},
     "output_type": "execute_result"
    }
   ],
   "source": [
    "cst.logprob(shd)"
   ]
  },
  {
   "cell_type": "code",
   "execution_count": 45,
   "id": "8a05ccc6-c03f-42ee-bf96-baec1e7500e4",
   "metadata": {},
   "outputs": [
    {
     "data": {
      "text/plain": [
       "(tensor(2.4953, grad_fn=<MeanBackward0>),\n",
       " tensor(-1.2599, grad_fn=<MeanBackward0>),\n",
       " tensor(1.2355, grad_fn=<MeanBackward0>))"
      ]
     },
     "execution_count": 45,
     "metadata": {},
     "output_type": "execute_result"
    }
   ],
   "source": [
    "cst.loss(shd)"
   ]
  },
  {
   "cell_type": "markdown",
   "id": "918c601b-e750-46c7-8f34-442de3e66038",
   "metadata": {},
   "source": [
    "## Training"
   ]
  },
  {
   "cell_type": "markdown",
   "id": "d4eafdd5-3704-483b-a795-8747e56cbbfe",
   "metadata": {},
   "source": [
    "### Batch Training"
   ]
  },
  {
   "cell_type": "markdown",
   "id": "68833c5a-e501-4340-ad70-0d0ac3c19c90",
   "metadata": {},
   "source": [
    "Scaning over parameter space and train a collection of models of different number of qubits and hyperparameter $\\beta$. `max_steps` - maximal optimization step, `nsr` - the noise signal ratio threshold for the loss function flucturation (optimization stop when the noise signal ratio is larger than this threshold), `window` - the window size used to estimate noise signal ratio (larger window size stricter convergence criterion), `n_sample` - number of classical shadow samples used in each iteration, `lr` -  learning rate."
   ]
  },
  {
   "cell_type": "code",
   "execution_count": 46,
   "id": "0c50fc51-1db3-42d0-92eb-39c98b1ba824",
   "metadata": {
    "tags": []
   },
   "outputs": [
    {
     "name": "stdout",
     "output_type": "stream",
     "text": [
      "./model/CST_d64_h16_l1/GHZ_N1_b-2\n",
      "2346:  0.45879 -0.45005  0.03495 -0.06333\n"
     ]
    },
    {
     "ename": "KeyboardInterrupt",
     "evalue": "",
     "output_type": "error",
     "traceback": [
      "\u001b[0;31m---------------------------------------------------------------------------\u001b[0m",
      "\u001b[0;31mKeyboardInterrupt\u001b[0m                         Traceback (most recent call last)",
      "\u001b[1;32m/Users/thijs/Documents/Studiejaar5/Orientation Team Project/Python/Emergent-Classicality/data_collect.ipynb Cell 69\u001b[0m line \u001b[0;36m4\n\u001b[1;32m      <a href='vscode-notebook-cell:/Users/thijs/Documents/Studiejaar5/Orientation%20Team%20Project/Python/Emergent-Classicality/data_collect.ipynb#Y125sZmlsZQ%3D%3D?line=1'>2</a>\u001b[0m \u001b[39mfor\u001b[39;00m logbeta \u001b[39min\u001b[39;00m \u001b[39mrange\u001b[39m(\u001b[39m-\u001b[39m\u001b[39m6\u001b[39m,\u001b[39m7\u001b[39m):\n\u001b[1;32m      <a href='vscode-notebook-cell:/Users/thijs/Documents/Studiejaar5/Orientation%20Team%20Project/Python/Emergent-Classicality/data_collect.ipynb#Y125sZmlsZQ%3D%3D?line=2'>3</a>\u001b[0m     cst \u001b[39m=\u001b[39m ClassicalShadowTransformer(n_qubit, logbeta)\u001b[39m.\u001b[39mto(device)\u001b[39m.\u001b[39mload()\n\u001b[0;32m----> <a href='vscode-notebook-cell:/Users/thijs/Documents/Studiejaar5/Orientation%20Team%20Project/Python/Emergent-Classicality/data_collect.ipynb#Y125sZmlsZQ%3D%3D?line=3'>4</a>\u001b[0m     cst\u001b[39m.\u001b[39moptimize(\u001b[39m10000\u001b[39m, max_steps\u001b[39m=\u001b[39m\u001b[39m30000\u001b[39m, nsr\u001b[39m=\u001b[39m\u001b[39m32\u001b[39m, window\u001b[39m=\u001b[39m\u001b[39m400\u001b[39m, n_sample\u001b[39m=\u001b[39m\u001b[39m1000\u001b[39m, lr\u001b[39m=\u001b[39m\u001b[39m0.0001\u001b[39m)\n",
      "File \u001b[0;32m~/Documents/Studiejaar5/Orientation Team Project/Python/Emergent-Classicality/CST.py:851\u001b[0m, in \u001b[0;36mClassicalShadowTransformer.optimize\u001b[0;34m(self, steps, max_steps, n_sample, lr, autosave, **kwargs)\u001b[0m\n\u001b[1;32m    849\u001b[0m     \u001b[39mbreak\u001b[39;00m\n\u001b[1;32m    850\u001b[0m \u001b[39mself\u001b[39m\u001b[39m.\u001b[39moptimizer\u001b[39m.\u001b[39mzero_grad()\n\u001b[0;32m--> 851\u001b[0m shadow \u001b[39m=\u001b[39m \u001b[39mself\u001b[39m\u001b[39m.\u001b[39mshadow(n_sample)\u001b[39m.\u001b[39mto(\u001b[39mself\u001b[39m\u001b[39m.\u001b[39mdevice)\n\u001b[1;32m    852\u001b[0m loss, logprob, kld \u001b[39m=\u001b[39m \u001b[39mself\u001b[39m\u001b[39m.\u001b[39mloss(shadow)\n\u001b[1;32m    853\u001b[0m loss\u001b[39m.\u001b[39mbackward()\n",
      "File \u001b[0;32m~/Documents/Studiejaar5/Orientation Team Project/Python/Emergent-Classicality/CST.py:781\u001b[0m, in \u001b[0;36mClassicalShadowTransformer.shadow\u001b[0;34m(self, n_sample)\u001b[0m\n\u001b[1;32m    779\u001b[0m \u001b[39mfor\u001b[39;00m _ \u001b[39min\u001b[39;00m \u001b[39mrange\u001b[39m(n_sample):\n\u001b[1;32m    780\u001b[0m     sigma \u001b[39m=\u001b[39m qst\u001b[39m.\u001b[39mrandom_pauli_state(\u001b[39mself\u001b[39m\u001b[39m.\u001b[39mn_qubit)\n\u001b[0;32m--> 781\u001b[0m     bit \u001b[39m=\u001b[39m rho\u001b[39m.\u001b[39mcopy()\u001b[39m.\u001b[39mmeasure(sigma)[\u001b[39m0\u001b[39m]\n\u001b[1;32m    782\u001b[0m     tok \u001b[39m=\u001b[39m sigma\u001b[39m.\u001b[39mtokenize()\n\u001b[1;32m    783\u001b[0m     obs\u001b[39m.\u001b[39mappend(tok[:\u001b[39mself\u001b[39m\u001b[39m.\u001b[39mn_qubit,:\u001b[39mself\u001b[39m\u001b[39m.\u001b[39mn_qubit]\u001b[39m.\u001b[39mdiagonal())\n",
      "File \u001b[0;32m~/Documents/Studiejaar5/Orientation Team Project/Python/Emergent-Classicality/qst/stabilizer.py:104\u001b[0m, in \u001b[0;36mStabilizerState.copy\u001b[0;34m(self)\u001b[0m\n\u001b[1;32m    100\u001b[0m \u001b[39m@property\u001b[39m\n\u001b[1;32m    101\u001b[0m \u001b[39mdef\u001b[39;00m \u001b[39mstabilizers\u001b[39m(\u001b[39mself\u001b[39m):\n\u001b[1;32m    102\u001b[0m     \u001b[39mreturn\u001b[39;00m \u001b[39mself\u001b[39m[\u001b[39mself\u001b[39m\u001b[39m.\u001b[39mr:\u001b[39mself\u001b[39m\u001b[39m.\u001b[39mN]\n\u001b[0;32m--> 104\u001b[0m \u001b[39mdef\u001b[39;00m \u001b[39mcopy\u001b[39m(\u001b[39mself\u001b[39m):\n\u001b[1;32m    105\u001b[0m     \u001b[39mreturn\u001b[39;00m StabilizerState(\u001b[39mself\u001b[39m\u001b[39m.\u001b[39mgs\u001b[39m.\u001b[39mcopy(), \u001b[39mself\u001b[39m\u001b[39m.\u001b[39mps\u001b[39m.\u001b[39mcopy())\u001b[39m.\u001b[39mset_r(\u001b[39mself\u001b[39m\u001b[39m.\u001b[39mr)\n\u001b[1;32m    107\u001b[0m \u001b[39mdef\u001b[39;00m \u001b[39mset_r\u001b[39m(\u001b[39mself\u001b[39m, r\u001b[39m=\u001b[39m\u001b[39mNone\u001b[39;00m):\n",
      "\u001b[0;31mKeyboardInterrupt\u001b[0m: "
     ]
    }
   ],
   "source": [
    "for n_qubit in range(1,6):\n",
    "    for logbeta in range(-6,7):\n",
    "        cst = ClassicalShadowTransformer(n_qubit, logbeta).to(device).load()\n",
    "        cst.optimize(10000, max_steps=30000, nsr=32, window=400, n_sample=1000, lr=0.0001)\n",
    "        \n"
   ]
  },
  {
   "cell_type": "markdown",
   "id": "f2c50c7f-21f6-468c-8a19-b2d0403439da",
   "metadata": {},
   "source": [
    "Inspect loss history to determine convergence."
   ]
  },
  {
   "cell_type": "code",
   "execution_count": 47,
   "id": "4e6f36ff-4b15-4314-9d2b-a95b5ef97a59",
   "metadata": {},
   "outputs": [
    {
     "data": {
      "text/plain": [
       "[<matplotlib.lines.Line2D at 0x166c58d10>]"
      ]
     },
     "execution_count": 47,
     "metadata": {},
     "output_type": "execute_result"
    },
    {
     "data": {
      "image/png": "[encoded data removed]",
      "text/plain": [
       "<Figure size 432x288 with 1 Axes>"
      ]
     },
     "metadata": {
      "needs_background": "light"
     },
     "output_type": "display_data"
    }
   ],
   "source": [
    "cst = ClassicalShadowTransformer(5,-4).load()\n",
    "#print(cst.transformer.repara.logvar)\n",
    "plt.plot(cst.loss_history[100:])"
   ]
  },
  {
   "cell_type": "markdown",
   "id": "26302402-5c12-487a-b50b-9e28f016dc0b",
   "metadata": {
    "jp-MarkdownHeadingCollapsed": true,
    "tags": []
   },
   "source": [
    "### Fine Tuning"
   ]
  },
  {
   "cell_type": "markdown",
   "id": "341f4426-d36f-40fb-b97e-c7159f33d432",
   "metadata": {},
   "source": [
    "If necessary, a model can be loaded for fine tuning with smaller training rate to ensure convergence."
   ]
  },
  {
   "cell_type": "code",
   "execution_count": 48,
   "id": "944ad39a-2502-48fb-8a21-60bcae7eb23e",
   "metadata": {},
   "outputs": [],
   "source": [
    "cst = ClassicalShadowTransformer(5, -6).load()"
   ]
  },
  {
   "cell_type": "code",
   "execution_count": 49,
   "id": "7e850afd-c559-45b6-8b5c-5aae269a082f",
   "metadata": {},
   "outputs": [
    {
     "name": "stdout",
     "output_type": "stream",
     "text": [
      "./model/CST_d64_h16_l1/GHZ_N5_b-6\n",
      " 44:  2.86885 -2.86637  0.15846 -0.35466\n"
     ]
    },
    {
     "ename": "KeyboardInterrupt",
     "evalue": "",
     "output_type": "error",
     "traceback": [
      "\u001b[0;31m---------------------------------------------------------------------------\u001b[0m",
      "\u001b[0;31mKeyboardInterrupt\u001b[0m                         Traceback (most recent call last)",
      "\u001b[1;32m/Users/thijs/Documents/Studiejaar5/Orientation Team Project/Python/Emergent-Classicality/data_collect.ipynb Cell 75\u001b[0m line \u001b[0;36m1\n\u001b[0;32m----> <a href='vscode-notebook-cell:/Users/thijs/Documents/Studiejaar5/Orientation%20Team%20Project/Python/Emergent-Classicality/data_collect.ipynb#Y134sZmlsZQ%3D%3D?line=0'>1</a>\u001b[0m cst\u001b[39m.\u001b[39moptimize(\u001b[39m1000\u001b[39m, max_steps\u001b[39m=\u001b[39m\u001b[39m10000\u001b[39m, nsr\u001b[39m=\u001b[39m\u001b[39m32\u001b[39m, window\u001b[39m=\u001b[39m\u001b[39m1000\u001b[39m, n_sample\u001b[39m=\u001b[39m\u001b[39m1000\u001b[39m, lr\u001b[39m=\u001b[39m\u001b[39m0.00001\u001b[39m)\n",
      "File \u001b[0;32m~/Documents/Studiejaar5/Orientation Team Project/Python/Emergent-Classicality/CST.py:851\u001b[0m, in \u001b[0;36mClassicalShadowTransformer.optimize\u001b[0;34m(self, steps, max_steps, n_sample, lr, autosave, **kwargs)\u001b[0m\n\u001b[1;32m    849\u001b[0m     \u001b[39mbreak\u001b[39;00m\n\u001b[1;32m    850\u001b[0m \u001b[39mself\u001b[39m\u001b[39m.\u001b[39moptimizer\u001b[39m.\u001b[39mzero_grad()\n\u001b[0;32m--> 851\u001b[0m shadow \u001b[39m=\u001b[39m \u001b[39mself\u001b[39m\u001b[39m.\u001b[39mshadow(n_sample)\u001b[39m.\u001b[39mto(\u001b[39mself\u001b[39m\u001b[39m.\u001b[39mdevice)\n\u001b[1;32m    852\u001b[0m loss, logprob, kld \u001b[39m=\u001b[39m \u001b[39mself\u001b[39m\u001b[39m.\u001b[39mloss(shadow)\n\u001b[1;32m    853\u001b[0m loss\u001b[39m.\u001b[39mbackward()\n",
      "File \u001b[0;32m~/Documents/Studiejaar5/Orientation Team Project/Python/Emergent-Classicality/CST.py:780\u001b[0m, in \u001b[0;36mClassicalShadowTransformer.shadow\u001b[0;34m(self, n_sample)\u001b[0m\n\u001b[1;32m    778\u001b[0m out \u001b[39m=\u001b[39m []\n\u001b[1;32m    779\u001b[0m \u001b[39mfor\u001b[39;00m _ \u001b[39min\u001b[39;00m \u001b[39mrange\u001b[39m(n_sample):\n\u001b[0;32m--> 780\u001b[0m     sigma \u001b[39m=\u001b[39m qst\u001b[39m.\u001b[39mrandom_pauli_state(\u001b[39mself\u001b[39m\u001b[39m.\u001b[39mn_qubit)\n\u001b[1;32m    781\u001b[0m     bit \u001b[39m=\u001b[39m rho\u001b[39m.\u001b[39mcopy()\u001b[39m.\u001b[39mmeasure(sigma)[\u001b[39m0\u001b[39m]\n\u001b[1;32m    782\u001b[0m     tok \u001b[39m=\u001b[39m sigma\u001b[39m.\u001b[39mtokenize()\n",
      "File \u001b[0;32m~/Documents/Studiejaar5/Orientation Team Project/Python/Emergent-Classicality/qst/stabilizer.py:266\u001b[0m, in \u001b[0;36mrandom_pauli_state\u001b[0;34m(N, r)\u001b[0m\n\u001b[1;32m    265\u001b[0m \u001b[39mdef\u001b[39;00m \u001b[39mrandom_pauli_state\u001b[39m(N, r\u001b[39m=\u001b[39m\u001b[39mNone\u001b[39;00m):\n\u001b[0;32m--> 266\u001b[0m     \u001b[39mreturn\u001b[39;00m random_pauli_map(N)\u001b[39m.\u001b[39mto_state(r)\n",
      "File \u001b[0;32m~/Documents/Studiejaar5/Orientation Team Project/Python/Emergent-Classicality/qst/stabilizer.py:219\u001b[0m, in \u001b[0;36mrandom_pauli_map\u001b[0;34m(N)\u001b[0m\n\u001b[1;32m    217\u001b[0m gs \u001b[39m=\u001b[39m random_pauli(N) \u001b[39m# shape (2*N, 2*N), mapping matrix\u001b[39;00m\n\u001b[1;32m    218\u001b[0m ps \u001b[39m=\u001b[39m \u001b[39m2\u001b[39m \u001b[39m*\u001b[39m numpy\u001b[39m.\u001b[39mrandom\u001b[39m.\u001b[39mrandint(\u001b[39m0\u001b[39m,\u001b[39m2\u001b[39m,\u001b[39m2\u001b[39m\u001b[39m*\u001b[39mN) \u001b[39m# shape (2*N), phase indicator\u001b[39;00m\n\u001b[0;32m--> 219\u001b[0m \u001b[39mreturn\u001b[39;00m CliffordMap(gs, ps)\n",
      "File \u001b[0;32m~/Documents/Studiejaar5/Orientation Team Project/Python/Emergent-Classicality/qst/stabilizer.py:24\u001b[0m, in \u001b[0;36mCliffordMap.__init__\u001b[0;34m(self, *args, **kwargs)\u001b[0m\n\u001b[1;32m      9\u001b[0m \u001b[39mclass\u001b[39;00m \u001b[39mCliffordMap\u001b[39;00m(PauliList):\n\u001b[1;32m     10\u001b[0m     \u001b[39m'''Represents a Clifford map. This is a subclass of PauliList.\u001b[39;00m\n\u001b[1;32m     11\u001b[0m \u001b[39m    \u001b[39;00m\n\u001b[1;32m     12\u001b[0m \u001b[39m    Idea: a most general Clifford transformation is specified by the operator\u001b[39;00m\n\u001b[0;32m   (...)\u001b[0m\n\u001b[1;32m     22\u001b[0m \u001b[39m    gs: int (2*N, 2*N) - strings of Pauli operators to be mapped to.\u001b[39;00m\n\u001b[1;32m     23\u001b[0m \u001b[39m    ps: int (2*N) - phase indicators of Pauli operators to be mapped to.'''\u001b[39;00m\n\u001b[0;32m---> 24\u001b[0m     \u001b[39mdef\u001b[39;00m \u001b[39m__init__\u001b[39m(\u001b[39mself\u001b[39m, \u001b[39m*\u001b[39margs, \u001b[39m*\u001b[39m\u001b[39m*\u001b[39mkwargs):\n\u001b[1;32m     25\u001b[0m         \u001b[39msuper\u001b[39m(CliffordMap, \u001b[39mself\u001b[39m)\u001b[39m.\u001b[39m\u001b[39m__init__\u001b[39m(\u001b[39m*\u001b[39margs, \u001b[39m*\u001b[39m\u001b[39m*\u001b[39mkwargs)\n\u001b[1;32m     27\u001b[0m     \u001b[39mdef\u001b[39;00m \u001b[39m__repr__\u001b[39m(\u001b[39mself\u001b[39m):\n",
      "\u001b[0;31mKeyboardInterrupt\u001b[0m: "
     ]
    }
   ],
   "source": [
    "cst.optimize(1000, max_steps=10000, nsr=32, window=1000, n_sample=1000, lr=0.00001)"
   ]
  },
  {
   "cell_type": "markdown",
   "id": "fe082190-6c80-4291-9cd5-2ab3cd4e7e17",
   "metadata": {},
   "source": [
    "## Evaluation"
   ]
  },
  {
   "cell_type": "markdown",
   "id": "76c50cd5-278e-4e2d-8dc7-1232373d5e94",
   "metadata": {
    "jp-MarkdownHeadingCollapsed": true,
    "tags": []
   },
   "source": [
    "### Loss Function History"
   ]
  },
  {
   "cell_type": "code",
   "execution_count": 50,
   "id": "1e59c304-8d80-404b-9a5d-eb5373661613",
   "metadata": {},
   "outputs": [
    {
     "data": {
      "image/png": "[encoded data removed]",
      "text/plain": [
       "<Figure size 432x288 with 1 Axes>"
      ]
     },
     "metadata": {
      "needs_background": "light"
     },
     "output_type": "display_data"
    }
   ],
   "source": [
    "for logbeta in range(-6,7):\n",
    "    cst = ClassicalShadowTransformer(4,logbeta).load()\n",
    "    plt.plot(cst.loss_history[-200:])"
   ]
  },
  {
   "cell_type": "markdown",
   "id": "91772a8c-cb30-4857-ac85-ea80db1c38ba",
   "metadata": {},
   "source": [
    "### Fidelity and Entropy Map"
   ]
  },
  {
   "cell_type": "markdown",
   "id": "6b7ab237-8755-408e-8ee7-95ec4b34812f",
   "metadata": {},
   "source": [
    "Compute fidelity and entropy (in unit of bit) of the reconstructed density matrix."
   ]
  },
  {
   "cell_type": "code",
   "execution_count": 51,
   "id": "2ed2f1f2-7f96-4290-b0c9-19ed8d065f06",
   "metadata": {},
   "outputs": [
    {
     "name": "stdout",
     "output_type": "stream",
     "text": [
      "./model/CST_d64_h16_l1/GHZ_N5_b3\n",
      "F = 0.4973459541797638, S = 1.5282715559005737\n"
     ]
    },
    {
     "ename": "KeyboardInterrupt",
     "evalue": "",
     "output_type": "error",
     "traceback": [
      "\u001b[0;31m---------------------------------------------------------------------------\u001b[0m",
      "\u001b[0;31mKeyboardInterrupt\u001b[0m                         Traceback (most recent call last)",
      "\u001b[1;32m/Users/thijs/Documents/Studiejaar5/Orientation Team Project/Python/Emergent-Classicality/data_collect.ipynb Cell 81\u001b[0m line \u001b[0;36m6\n\u001b[1;32m      <a href='vscode-notebook-cell:/Users/thijs/Documents/Studiejaar5/Orientation%20Team%20Project/Python/Emergent-Classicality/data_collect.ipynb#Y143sZmlsZQ%3D%3D?line=3'>4</a>\u001b[0m cst \u001b[39m=\u001b[39m ClassicalShadowTransformer(n_qubit, logbeta)\u001b[39m.\u001b[39mload()\u001b[39m.\u001b[39meval()\n\u001b[1;32m      <a href='vscode-notebook-cell:/Users/thijs/Documents/Studiejaar5/Orientation%20Team%20Project/Python/Emergent-Classicality/data_collect.ipynb#Y143sZmlsZQ%3D%3D?line=4'>5</a>\u001b[0m \u001b[39mwith\u001b[39;00m torch\u001b[39m.\u001b[39mno_grad():\n\u001b[0;32m----> <a href='vscode-notebook-cell:/Users/thijs/Documents/Studiejaar5/Orientation%20Team%20Project/Python/Emergent-Classicality/data_collect.ipynb#Y143sZmlsZQ%3D%3D?line=5'>6</a>\u001b[0m     rho \u001b[39m=\u001b[39m cst\u001b[39m.\u001b[39mrho()\u001b[39m.\u001b[39mmatrix_form()\u001b[39m/\u001b[39m\u001b[39m2\u001b[39m\u001b[39m*\u001b[39m\u001b[39m*\u001b[39mcst\u001b[39m.\u001b[39mn_qubit \u001b[39m# reconstruction\u001b[39;00m\n\u001b[1;32m      <a href='vscode-notebook-cell:/Users/thijs/Documents/Studiejaar5/Orientation%20Team%20Project/Python/Emergent-Classicality/data_collect.ipynb#Y143sZmlsZQ%3D%3D?line=6'>7</a>\u001b[0m \u001b[39m# compute fidelity\u001b[39;00m\n\u001b[1;32m      <a href='vscode-notebook-cell:/Users/thijs/Documents/Studiejaar5/Orientation%20Team%20Project/Python/Emergent-Classicality/data_collect.ipynb#Y143sZmlsZQ%3D%3D?line=7'>8</a>\u001b[0m fid \u001b[39m=\u001b[39m (rho[\u001b[39m0\u001b[39m,\u001b[39m0\u001b[39m] \u001b[39m+\u001b[39m rho[\u001b[39m-\u001b[39m\u001b[39m1\u001b[39m,\u001b[39m-\u001b[39m\u001b[39m1\u001b[39m] \u001b[39m+\u001b[39m rho[\u001b[39m0\u001b[39m,\u001b[39m-\u001b[39m\u001b[39m1\u001b[39m] \u001b[39m+\u001b[39m rho[\u001b[39m-\u001b[39m\u001b[39m1\u001b[39m,\u001b[39m0\u001b[39m])\u001b[39m/\u001b[39m\u001b[39m2\u001b[39m\n",
      "File \u001b[0;32m~/Documents/Studiejaar5/Orientation Team Project/Python/Emergent-Classicality/CST.py:830\u001b[0m, in \u001b[0;36mClassicalShadowTransformer.rho\u001b[0;34m(self)\u001b[0m\n\u001b[1;32m    828\u001b[0m weight \u001b[39m=\u001b[39m \u001b[39mself\u001b[39m\u001b[39m.\u001b[39mlogprob(shadow)\u001b[39m.\u001b[39msoftmax(\u001b[39m-\u001b[39m\u001b[39m1\u001b[39m)\n\u001b[1;32m    829\u001b[0m paulis \u001b[39m=\u001b[39m torch\u001b[39m.\u001b[39mcartesian_prod(\u001b[39m*\u001b[39m([torch\u001b[39m.\u001b[39marange(\u001b[39m4\u001b[39m, device\u001b[39m=\u001b[39m\u001b[39mself\u001b[39m\u001b[39m.\u001b[39mdevice)]\u001b[39m*\u001b[39m\u001b[39mself\u001b[39m\u001b[39m.\u001b[39mn_qubit))\u001b[39m.\u001b[39mview(\u001b[39m-\u001b[39m\u001b[39m1\u001b[39m, \u001b[39mself\u001b[39m\u001b[39m.\u001b[39mn_qubit)\n\u001b[0;32m--> 830\u001b[0m shadow_map \u001b[39m=\u001b[39m shadow\u001b[39m.\u001b[39mshadow_map(paulis)\u001b[39m.\u001b[39mto(weight)\n\u001b[1;32m    831\u001b[0m \u001b[39mreturn\u001b[39;00m Operator(paulis, weight \u001b[39m@\u001b[39m shadow_map)\n",
      "File \u001b[0;32m~/Documents/Studiejaar5/Orientation Team Project/Python/Emergent-Classicality/CST.py:620\u001b[0m, in \u001b[0;36mShadow.shadow_map\u001b[0;34m(self, paulis)\u001b[0m\n\u001b[1;32m    618\u001b[0m match_support \u001b[39m=\u001b[39m match\u001b[39m.\u001b[39munsqueeze(\u001b[39m-\u001b[39m\u001b[39m1\u001b[39m) \u001b[39m*\u001b[39m pauli_support\u001b[39m.\u001b[39munsqueeze(\u001b[39m0\u001b[39m) \u001b[39m# (n_sample, n_pauli, N)\u001b[39;00m\n\u001b[1;32m    619\u001b[0m masked_outcome \u001b[39m=\u001b[39m \u001b[39mself\u001b[39m\u001b[39m.\u001b[39mout\u001b[39m.\u001b[39munsqueeze(\u001b[39m1\u001b[39m) \u001b[39m*\u001b[39m match_support \u001b[39m# (n_sample, n_pauli, N)\u001b[39;00m\n\u001b[0;32m--> 620\u001b[0m value \u001b[39m=\u001b[39m \u001b[39m1\u001b[39m \u001b[39m-\u001b[39m \u001b[39m2\u001b[39m \u001b[39m*\u001b[39m (masked_outcome\u001b[39m.\u001b[39msum(\u001b[39m-\u001b[39m\u001b[39m1\u001b[39m) \u001b[39m%\u001b[39m \u001b[39m2\u001b[39m) \u001b[39m# (n_sample, n_pauli)\u001b[39;00m\n\u001b[1;32m    621\u001b[0m masked_value \u001b[39m=\u001b[39m value \u001b[39m*\u001b[39m match \u001b[39m# (n_sample, n_pauli)\u001b[39;00m\n\u001b[1;32m    622\u001b[0m shadow_map \u001b[39m=\u001b[39m masked_value \u001b[39m*\u001b[39m shadow_weight\u001b[39m.\u001b[39munsqueeze(\u001b[39m0\u001b[39m) \u001b[39m# (n_sample, n_pauli)\u001b[39;00m\n",
      "\u001b[0;31mKeyboardInterrupt\u001b[0m: "
     ]
    }
   ],
   "source": [
    "data = []\n",
    "for n_qubit in range(1, 6):\n",
    "    for logbeta in range(-6, 7):\n",
    "        cst = ClassicalShadowTransformer(n_qubit, logbeta).load().eval()\n",
    "        with torch.no_grad():\n",
    "            rho = cst.rho().matrix_form()/2**cst.n_qubit # reconstruction\n",
    "        # compute fidelity\n",
    "        fid = (rho[0,0] + rho[-1,-1] + rho[0,-1] + rho[-1,0])/2\n",
    "        fid = fid.real.item()\n",
    "        vals = torch.linalg.eigvalsh(rho)\n",
    "        vals = vals[vals > 0.]\n",
    "        ent = -torch.log2(vals).dot(vals).item()\n",
    "        clear_output(wait=True)\n",
    "        print(cst.path + '/' + cst.file)\n",
    "        print(f'F = {fid}, S = {ent}')\n",
    "        data.append([n_qubit, logbeta, fid, ent])"
   ]
  },
  {
   "cell_type": "code",
   "execution_count": 52,
   "id": "a0367ddc-36d5-4508-bfb7-dfa695b2a726",
   "metadata": {},
   "outputs": [],
   "source": [
    "with open('./data/map.dat', 'wb') as f:\n",
    "    pickle.dump(data, f)"
   ]
  },
  {
   "cell_type": "markdown",
   "id": "8ed405a4-6f0b-42cd-b4ff-22caff3dfab9",
   "metadata": {},
   "source": [
    "Fidelity for 6 qubits (and beyond) can only be estimated by classical shadow tomography. First, prepare the GHZ state density matrix and convert it to Operator class."
   ]
  },
  {
   "cell_type": "code",
   "execution_count": 53,
   "id": "68644b36-f216-4ced-85e5-66bed257cd1e",
   "metadata": {},
   "outputs": [
    {
     "ename": "AttributeError",
     "evalue": "module 'numpy' has no attribute 'int'.\n`np.int` was a deprecated alias for the builtin `int`. To avoid this error in existing code, use `int` by itself. Doing this will not modify any behavior and is safe. When replacing `np.int`, you may wish to use e.g. `np.int64` or `np.int32` to specify the precision. If you wish to review your current use, check the release note link for additional information.\nThe aliases was originally deprecated in NumPy 1.20; for more details and guidance see the original release note at:\n    https://numpy.org/devdocs/release/1.20.0-notes.html#deprecations",
     "output_type": "error",
     "traceback": [
      "\u001b[0;31m---------------------------------------------------------------------------\u001b[0m",
      "\u001b[0;31mAttributeError\u001b[0m                            Traceback (most recent call last)",
      "\u001b[1;32m/Users/thijs/Documents/Studiejaar5/Orientation Team Project/Python/Emergent-Classicality/data_collect.ipynb Cell 84\u001b[0m line \u001b[0;36m1\n\u001b[0;32m----> <a href='vscode-notebook-cell:/Users/thijs/Documents/Studiejaar5/Orientation%20Team%20Project/Python/Emergent-Classicality/data_collect.ipynb#Y146sZmlsZQ%3D%3D?line=0'>1</a>\u001b[0m rho \u001b[39m=\u001b[39m qst\u001b[39m.\u001b[39mghz_state(\u001b[39m6\u001b[39m)\u001b[39m.\u001b[39mdensity_matrix\n\u001b[1;32m      <a href='vscode-notebook-cell:/Users/thijs/Documents/Studiejaar5/Orientation%20Team%20Project/Python/Emergent-Classicality/data_collect.ipynb#Y146sZmlsZQ%3D%3D?line=1'>2</a>\u001b[0m tok \u001b[39m=\u001b[39m rho\u001b[39m.\u001b[39mtokenize()\n\u001b[1;32m      <a href='vscode-notebook-cell:/Users/thijs/Documents/Studiejaar5/Orientation%20Team%20Project/Python/Emergent-Classicality/data_collect.ipynb#Y146sZmlsZQ%3D%3D?line=2'>3</a>\u001b[0m paulis \u001b[39m=\u001b[39m tok[:,:\u001b[39m-\u001b[39m\u001b[39m1\u001b[39m]\n",
      "File \u001b[0;32m~/Documents/Studiejaar5/Orientation Team Project/Python/Emergent-Classicality/qst/stabilizer.py:184\u001b[0m, in \u001b[0;36mStabilizerState.density_matrix\u001b[0;34m(self)\u001b[0m\n\u001b[1;32m    181\u001b[0m \u001b[39m@property\u001b[39m\n\u001b[1;32m    182\u001b[0m \u001b[39mdef\u001b[39;00m \u001b[39mdensity_matrix\u001b[39m(\u001b[39mself\u001b[39m):\n\u001b[1;32m    183\u001b[0m     \u001b[39m'''Expand stabilizer state as density matrix in PauliPolynomial representation.'''\u001b[39;00m\n\u001b[0;32m--> 184\u001b[0m     C \u001b[39m=\u001b[39m binary_repr(numpy\u001b[39m.\u001b[39marange(\u001b[39m2\u001b[39m\u001b[39m*\u001b[39m\u001b[39m*\u001b[39m(\u001b[39mself\u001b[39m\u001b[39m.\u001b[39mN\u001b[39m-\u001b[39m\u001b[39mself\u001b[39m\u001b[39m.\u001b[39mr)))\n\u001b[1;32m    185\u001b[0m     gs, ps \u001b[39m=\u001b[39m pauli_combine(C, \u001b[39mself\u001b[39m\u001b[39m.\u001b[39mgs[\u001b[39mself\u001b[39m\u001b[39m.\u001b[39mr:\u001b[39mself\u001b[39m\u001b[39m.\u001b[39mN], \u001b[39mself\u001b[39m\u001b[39m.\u001b[39mps[\u001b[39mself\u001b[39m\u001b[39m.\u001b[39mr:\u001b[39mself\u001b[39m\u001b[39m.\u001b[39mN])\n\u001b[1;32m    186\u001b[0m     \u001b[39mreturn\u001b[39;00m PauliPolynomial(gs, ps) \u001b[39m/\u001b[39m \u001b[39m2\u001b[39m\u001b[39m*\u001b[39m\u001b[39m*\u001b[39m\u001b[39mself\u001b[39m\u001b[39m.\u001b[39mN\n",
      "File \u001b[0;32m~/Documents/Studiejaar5/Orientation Team Project/Python/Emergent-Classicality/qst/utils.py:796\u001b[0m, in \u001b[0;36mbinary_repr\u001b[0;34m(ints, width)\u001b[0m\n\u001b[1;32m    786\u001b[0m \u001b[39mdef\u001b[39;00m \u001b[39mbinary_repr\u001b[39m(ints, width \u001b[39m=\u001b[39m \u001b[39mNone\u001b[39;00m):\n\u001b[1;32m    787\u001b[0m     \u001b[39m'''Convert an array of integers to their binary representations.\u001b[39;00m\n\u001b[1;32m    788\u001b[0m \u001b[39m    \u001b[39;00m\n\u001b[1;32m    789\u001b[0m \u001b[39m    Parameters:\u001b[39;00m\n\u001b[0;32m   (...)\u001b[0m\n\u001b[1;32m    794\u001b[0m \u001b[39m    new array where each integter is unpacked to binary subarray.\u001b[39;00m\n\u001b[1;32m    795\u001b[0m \u001b[39m    '''\u001b[39;00m\n\u001b[0;32m--> 796\u001b[0m     width \u001b[39m=\u001b[39m numpy\u001b[39m.\u001b[39mceil(numpy\u001b[39m.\u001b[39mlog2(numpy\u001b[39m.\u001b[39mmax(ints)\u001b[39m+\u001b[39m\u001b[39m1\u001b[39m))\u001b[39m.\u001b[39mastype(numpy\u001b[39m.\u001b[39mint) \u001b[39mif\u001b[39;00m width \u001b[39mis\u001b[39;00m \u001b[39mNone\u001b[39;00m \u001b[39melse\u001b[39;00m width\n\u001b[1;32m    797\u001b[0m     dt0 \u001b[39m=\u001b[39m ints\u001b[39m.\u001b[39mdtype\n\u001b[1;32m    798\u001b[0m     dt1 \u001b[39m=\u001b[39m numpy\u001b[39m.\u001b[39mdtype((dt0, [(\u001b[39m'\u001b[39m\u001b[39mbytes\u001b[39m\u001b[39m'\u001b[39m,\u001b[39m'\u001b[39m\u001b[39mu1\u001b[39m\u001b[39m'\u001b[39m,dt0\u001b[39m.\u001b[39mitemsize)]))\n",
      "File \u001b[0;32m~/opt/anaconda3/envs/emergent_classicality/lib/python3.11/site-packages/numpy/__init__.py:319\u001b[0m, in \u001b[0;36m__getattr__\u001b[0;34m(attr)\u001b[0m\n\u001b[1;32m    314\u001b[0m     warnings\u001b[39m.\u001b[39mwarn(\n\u001b[1;32m    315\u001b[0m         \u001b[39mf\u001b[39m\u001b[39m\"\u001b[39m\u001b[39mIn the future `np.\u001b[39m\u001b[39m{\u001b[39;00mattr\u001b[39m}\u001b[39;00m\u001b[39m` will be defined as the \u001b[39m\u001b[39m\"\u001b[39m\n\u001b[1;32m    316\u001b[0m         \u001b[39m\"\u001b[39m\u001b[39mcorresponding NumPy scalar.\u001b[39m\u001b[39m\"\u001b[39m, \u001b[39mFutureWarning\u001b[39;00m, stacklevel\u001b[39m=\u001b[39m\u001b[39m2\u001b[39m)\n\u001b[1;32m    318\u001b[0m \u001b[39mif\u001b[39;00m attr \u001b[39min\u001b[39;00m __former_attrs__:\n\u001b[0;32m--> 319\u001b[0m     \u001b[39mraise\u001b[39;00m \u001b[39mAttributeError\u001b[39;00m(__former_attrs__[attr])\n\u001b[1;32m    321\u001b[0m \u001b[39mif\u001b[39;00m attr \u001b[39m==\u001b[39m \u001b[39m'\u001b[39m\u001b[39mtesting\u001b[39m\u001b[39m'\u001b[39m:\n\u001b[1;32m    322\u001b[0m     \u001b[39mimport\u001b[39;00m \u001b[39mnumpy\u001b[39;00m\u001b[39m.\u001b[39;00m\u001b[39mtesting\u001b[39;00m \u001b[39mas\u001b[39;00m \u001b[39mtesting\u001b[39;00m\n",
      "\u001b[0;31mAttributeError\u001b[0m: module 'numpy' has no attribute 'int'.\n`np.int` was a deprecated alias for the builtin `int`. To avoid this error in existing code, use `int` by itself. Doing this will not modify any behavior and is safe. When replacing `np.int`, you may wish to use e.g. `np.int64` or `np.int32` to specify the precision. If you wish to review your current use, check the release note link for additional information.\nThe aliases was originally deprecated in NumPy 1.20; for more details and guidance see the original release note at:\n    https://numpy.org/devdocs/release/1.20.0-notes.html#deprecations"
     ]
    }
   ],
   "source": [
    "rho = qst.ghz_state(6).density_matrix\n",
    "tok = rho.tokenize()\n",
    "paulis = tok[:,:-1]\n",
    "coeffs = (9.-2.*tok[:,-1]) * rho.cs\n",
    "rho = Operator(torch.tensor(paulis), torch.tensor(coeffs))"
   ]
  },
  {
   "cell_type": "markdown",
   "id": "bd5fe5ab-dc24-41a8-a98d-514cdea21511",
   "metadata": {},
   "source": [
    "Then evaluate the expectation value of the density matrix on the classical shadow ensemble."
   ]
  },
  {
   "cell_type": "code",
   "execution_count": 33,
   "id": "e34594ec-fb41-424d-bc98-cd9fdc25027b",
   "metadata": {},
   "outputs": [
    {
     "name": "stdout",
     "output_type": "stream",
     "text": [
      "./model/CST_d128_h16_l2/GHZ_N6_b6\n",
      "F =  0.08763\n",
      "F =  0.06920\n",
      "F =  0.06147\n",
      "F =  0.07483\n",
      "F =  0.07469\n"
     ]
    }
   ],
   "source": [
    "#data = []\n",
    "for logbeta in range(2, 7):\n",
    "    cst = ClassicalShadowTransformer(6, logbeta, embed_dim=128, n_layers=2).load().eval();\n",
    "    clear_output(wait=True)\n",
    "    print(cst.path + '/' + cst.file)\n",
    "    fids = []\n",
    "    for _ in range(5):\n",
    "        shd = cst.sample(100000)\n",
    "        fid = rho.expectation(shd, batch_size=1000).real.item()\n",
    "        print(f'F = {fid:8.5f}')\n",
    "        fids.append(fid)\n",
    "    data.append([6, logbeta, fids])"
   ]
  },
  {
   "cell_type": "code",
   "execution_count": 35,
   "id": "1426c031-8a55-480b-9fdf-fb80599ff417",
   "metadata": {},
   "outputs": [],
   "source": [
    "with open('./data/fid6_d128_l2.dat', 'wb') as f:\n",
    "    pickle.dump(data, f)"
   ]
  },
  {
   "cell_type": "markdown",
   "id": "7dd3ac36-744b-4dcf-86d0-558ee85b005e",
   "metadata": {},
   "source": [
    "### Atlas Boreas Cygnus"
   ]
  },
  {
   "cell_type": "markdown",
   "id": "da28ee3a-b4d9-48fa-b126-0683b412af58",
   "metadata": {},
   "source": [
    "Take three representative models."
   ]
  },
  {
   "cell_type": "code",
   "execution_count": 44,
   "id": "a6b8d590-e27b-42e2-96af-9b7cc0926288",
   "metadata": {},
   "outputs": [],
   "source": [
    "mdls = {\n",
    "    'atlas': ClassicalShadowTransformer(5, -5).load().eval(),\n",
    "    'boreas': ClassicalShadowTransformer(5, -1).load().eval(),\n",
    "    'cygnus': ClassicalShadowTransformer(5, 6).load().eval()}"
   ]
  },
  {
   "cell_type": "markdown",
   "id": "5a962a6f-221e-492b-a883-66d9854414d2",
   "metadata": {},
   "source": [
    "Chat with the model. Dictionary:\n",
    "\n",
    "| Number | Symbol |\n",
    "|--------|--------|\n",
    "| `1`    | `+`    |\n",
    "| `2`    | `-`    |\n",
    "| `3`    | `I`    |\n",
    "| `4`    | `X`    |\n",
    "| `5`    | `Y`    |\n",
    "| `6`    | `Z`    |\n",
    "\n",
    "* Z-test: `x: ZZZZZ, y:abcd?`, where $a,b,c,d\\in\\{+,-\\}$ \n",
    "* X-test: `x: XXXXX, y:abcd?`, where $a,b,c,d\\in\\{+,-\\}$ \n",
    "* XZ-test: `x: XXXXZ, y:abcd?`, where $a,b,c,d\\in\\{+,-\\}$ \n",
    "\n",
    "Collect data:"
   ]
  },
  {
   "cell_type": "code",
   "execution_count": 61,
   "id": "5e74cc48-9519-4807-b7a9-4be665d93ddb",
   "metadata": {},
   "outputs": [],
   "source": [
    "data = {}\n",
    "y0 = torch.cartesian_prod(*[torch.tensor([1,2])]*4)\n",
    "y = torch.cat([y0,torch.zeros(y.shape[0], dtype=torch.long)[:,None]],1)\n",
    "x = torch.zeros_like(y) + 6\n",
    "data['obs'] = y0.tolist()\n",
    "with torch.no_grad():\n",
    "    for name, mdl in mdls.items():\n",
    "        logit = mdl.transformer(x, y)[:,-1]\n",
    "        data[name] = logit.tolist()\n",
    "with open('./data/z_test.dat', 'wb') as f:\n",
    "    pickle.dump(data, f)"
   ]
  },
  {
   "cell_type": "code",
   "execution_count": 62,
   "id": "b9f049cb-d9ea-4102-9d7a-7bfa5a8bcf7e",
   "metadata": {},
   "outputs": [],
   "source": [
    "data = {}\n",
    "y0 = torch.cartesian_prod(*[torch.tensor([1,2])]*4)\n",
    "y = torch.cat([y0,torch.zeros(y.shape[0], dtype=torch.long)[:,None]],1)\n",
    "x = torch.zeros_like(y) + 4\n",
    "data['obs'] = y0.tolist()\n",
    "with torch.no_grad():\n",
    "    for name, mdl in mdls.items():\n",
    "        logit = mdl.transformer(x, y)[:,-1]\n",
    "        data[name] = logit.tolist()\n",
    "with open('./data/x_test.dat', 'wb') as f:\n",
    "    pickle.dump(data, f)"
   ]
  },
  {
   "cell_type": "code",
   "execution_count": 63,
   "id": "0121429e-5222-4e59-b325-1c373153d27d",
   "metadata": {},
   "outputs": [],
   "source": [
    "data = {}\n",
    "y0 = torch.cartesian_prod(*[torch.tensor([1,2])]*4)\n",
    "y = torch.cat([y0,torch.zeros(y.shape[0], dtype=torch.long)[:,None]],1)\n",
    "x = torch.zeros_like(y) + 4\n",
    "x[:,-1] = 6\n",
    "data['obs'] = y0.tolist()\n",
    "with torch.no_grad():\n",
    "    for name, mdl in mdls.items():\n",
    "        logit = mdl.transformer(x, y)[:,-1]\n",
    "        data[name] = logit.tolist()\n",
    "with open('./data/xz_test.dat', 'wb') as f:\n",
    "    pickle.dump(data, f)"
   ]
  },
  {
   "cell_type": "markdown",
   "id": "b4121d1b-7b9b-4d56-8a91-9f417bd111d4",
   "metadata": {},
   "source": [
    "### Density Matrix Reconstruction"
   ]
  },
  {
   "cell_type": "markdown",
   "id": "d13ffa88-acd2-4ae2-9780-7bf3756fbad8",
   "metadata": {},
   "source": [
    "Reconstruct density matrices for representative models."
   ]
  },
  {
   "cell_type": "code",
   "execution_count": 65,
   "id": "f5c7d2ef-8f38-4ee0-bdb2-69a2f8d20406",
   "metadata": {},
   "outputs": [],
   "source": [
    "data = {}\n",
    "for name, mdl in mdls.items():\n",
    "    with torch.no_grad():\n",
    "        rho = mdl.rho().matrix_form()/2**mdl.n_qubit # reconstruction\n",
    "    data[name] = rho.tolist()\n",
    "with open('./data/rhos.dat', 'wb') as f:\n",
    "    pickle.dump(data, f)"
   ]
  },
  {
   "cell_type": "markdown",
   "id": "6e9ee244-b0d1-4b1d-ac86-9480ede70816",
   "metadata": {},
   "source": [
    "### Latent Space Structure"
   ]
  },
  {
   "cell_type": "code",
   "execution_count": 92,
   "id": "96276cb9-cb86-44c7-b1db-bfc53ebefc1f",
   "metadata": {},
   "outputs": [],
   "source": [
    "from sklearn.manifold import TSNE\n",
    "tsne = TSNE(2)\n",
    "x = torch.cartesian_prod(*[torch.tensor([4,5,6])]*5)\n",
    "data = {'x': (x-3).tolist()}\n",
    "for name, mdl in mdls.items():\n",
    "    with torch.no_grad():\n",
    "        src = mdl.transformer.embed(x)\n",
    "        mem = mdl.transformer.encode(src)\n",
    "    mem = mem.view(mem.shape[0],-1)\n",
    "    z = tsne.fit_transform(mem)\n",
    "    data[name] = z.tolist()\n",
    "with open('./data/z_embed.dat', 'wb') as f:\n",
    "    pickle.dump(data, f)"
   ]
  },
  {
   "cell_type": "code",
   "execution_count": null,
   "id": "25f8a2d9-d199-4188-8bb3-76c68ba4a9ec",
   "metadata": {},
   "outputs": [],
   "source": []
  }
 ],
 "metadata": {
  "kernelspec": {
   "display_name": "Python 3 (ipykernel)",
   "language": "python",
   "name": "python3"
  },
  "language_info": {
   "codemirror_mode": {
    "name": "ipython",
    "version": 3
   },
   "file_extension": ".py",
   "mimetype": "text/x-python",
   "name": "python",
   "nbconvert_exporter": "python",
   "pygments_lexer": "ipython3",
   "version": "3.11.5"
  }
 },
 "nbformat": 4,
 "nbformat_minor": 5
}
