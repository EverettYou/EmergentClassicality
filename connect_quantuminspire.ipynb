{
 "cells": [
  {
   "cell_type": "code",
   "execution_count": 27,
   "metadata": {},
   "outputs": [],
   "source": [
    "import coreapi\n",
    " \n",
    "# Note: BasicAuthentication is not recommended, use the API token instead\n",
    "server = r'https://api.quantum-inspire.com'\n",
    "email='thijs.hartmann@hotmail.nl'\n",
    "password='80Z*tyZnkJ&!pNrW'\n",
    "auth = coreapi.auth.BasicAuthentication(username=email, password=password)\n",
    " \n",
    "# Initialize a client & load the schema document\n",
    "client = coreapi.Client(auth=auth)\n",
    "schema = client.get(f'{server}/schema')\n",
    " \n",
    "# Interact with the API endpoint\n",
    "action = [\"projects\", \"list\"]\n",
    "result = client.action(schema, action)"
   ]
  },
  {
   "cell_type": "code",
   "execution_count": 13,
   "metadata": {},
   "outputs": [],
   "source": [
    "# from quantuminspire.qiskit import QI\n",
    "# Replace 'your_api_token_here' with your actual API token\n",
    "# QI.set_authentication(\"5ccb083db6a3df41112ee196c829effcd1ed36fd\")\n"
   ]
  },
  {
   "cell_type": "code",
   "execution_count": 32,
   "metadata": {},
   "outputs": [],
   "source": [
    "from quantuminspire.credentials import get_token_authentication\n",
    "auth = get_token_authentication()"
   ]
  },
  {
   "cell_type": "code",
   "execution_count": 8,
   "metadata": {},
   "outputs": [
    {
     "name": "stdout",
     "output_type": "stream",
     "text": [
      "Enter mail address\n",
      "Enter password\n"
     ]
    }
   ],
   "source": [
    "from getpass4 import getpass\n",
    "from coreapi.auth import BasicAuthentication\n",
    "from quantuminspire.api import QuantumInspireAPI\n",
    "\n",
    "email = 'thijs.hartmann@hotmail.nl'\n",
    "password = '80Z*tyZnkJ&!pNrW'\n",
    "\n",
    "server_url = r'https://api.quantum-inspire.com'\n",
    "authentication = BasicAuthentication(email, password)\n",
    "qi = QuantumInspireAPI(server_url, authentication, 'python_1')"
   ]
  },
  {
   "cell_type": "code",
   "execution_count": 30,
   "metadata": {},
   "outputs": [
    {
     "name": "stderr",
     "output_type": "stream",
     "text": [
      "Your experiment can not be optimized and may take longer to execute, see https://www.quantum-inspire.com/kbase/optimization-of-simulations/ for details.\n"
     ]
    },
    {
     "name": "stdout",
     "output_type": "stream",
     "text": [
      "[OrderedDict([('6', 0.15625), ('3', 0.140625), ('2', 0.0625), ('5', 0.109375), ('1', 0.140625), ('7', 0.09375), ('0', 0.15625), ('4', 0.140625)])]\n"
     ]
    }
   ],
   "source": [
    "qasm = '''version 1.0\n",
    "\n",
    "qubits 3\n",
    "\n",
    "# start writing your code here\n",
    "prep_z q[0] #state initialization in the z-basis in the |0> state\n",
    "prep_z q[1] #state initialization in the z-basis in the |0> state\n",
    "prep_z q[2] #state initialization in the z-basis in the |0> state\n",
    "\n",
    "H q[0] #execute Hadamard gate on qubit 0\n",
    "CNOT q[0],q[1] # CNOT gate between qubits 0 and 1\n",
    "CNOT q[0],q[2]\n",
    "\n",
    "Measure_x q[0] # Measurement on qubit 0 in the z-basis\n",
    "Measure_y q[1]\n",
    "Measure_z q[2]\n",
    "\n",
    "display # write the current quantum state to the output file\n",
    "'''\n",
    "\n",
    "backend_type = qi.get_backend_type_by_name('QX single-node simulator')\n",
    "result = qi.execute_qasm(qasm, backend_type=backend_type, number_of_shots=64)\n",
    "\n",
    "if result.get('histogram', {}):\n",
    "    print(result['histogram'])\n",
    "else:\n",
    "    reason = result.get('raw_text', 'No reason in result structure.')\n",
    "    print(f'Result structure does not contain proper histogram data. {reason}')\n"
   ]
  },
  {
   "cell_type": "code",
   "execution_count": 17,
   "metadata": {},
   "outputs": [
    {
     "name": "stdout",
     "output_type": "stream",
     "text": [
      "[OrderedDict([('7', 0.1328125), ('3', 0.203125), ('5', 0.1640625), ('4', 0.09375), ('6', 0.109375), ('1', 0.1328125), ('2', 0.1015625), ('0', 0.0625)])]\n"
     ]
    }
   ],
   "source": [
    "print(result['histogram'])"
   ]
  },
  {
   "cell_type": "code",
   "execution_count": 31,
   "metadata": {},
   "outputs": [
    {
     "data": {
      "image/png": "[encoded data removed]",
      "text/plain": [
       "<Figure size 432x288 with 1 Axes>"
      ]
     },
     "metadata": {
      "needs_background": "light"
     },
     "output_type": "display_data"
    }
   ],
   "source": [
    "import matplotlib.pyplot as plt\n",
    "from collections import OrderedDict\n",
    "\n",
    "# Your data\n",
    "data = result['histogram']\n",
    "\n",
    "# Function to convert a number to a binary string with 3 bits\n",
    "def to_binary_3bit(num):\n",
    "    return format(num, '03b')\n",
    "\n",
    "# Extract the keys (converted to binary) and values from the ordered dictionary\n",
    "keys = [to_binary_3bit(int(key)) for key in data[0].keys()]\n",
    "values = list(data[0].values())\n",
    "\n",
    "# Create a bar plot\n",
    "plt.bar(keys, values)\n",
    "plt.xlabel('Binary Numbers (3 bits)')\n",
    "plt.ylabel('Values')\n",
    "plt.title('Ordered Dictionary Data')\n",
    "plt.show()\n"
   ]
  },
  {
   "cell_type": "code",
   "execution_count": 23,
   "metadata": {},
   "outputs": [],
   "source": [
    "nr_qubits = 6\n",
    "\n",
    "backend_type = qi.get_backend_type_by_name('QX single-node simulator')\n"
   ]
  },
  {
   "cell_type": "code",
   "execution_count": 25,
   "metadata": {},
   "outputs": [
    {
     "name": "stderr",
     "output_type": "stream",
     "text": [
      "Your experiment can not be optimized and may take longer to execute, see https://www.quantum-inspire.com/kbase/optimization-of-simulations/ for details.\n"
     ]
    },
    {
     "name": "stdout",
     "output_type": "stream",
     "text": [
      "nice\n"
     ]
    }
   ],
   "source": [
    "qasm = f'''version 1.0\n",
    "\n",
    "qubits {nr_qubits}\n",
    "\n",
    "# start writing your code here\n",
    "prep_z q[0] #state initialization in the z-basis in the |0> state\n",
    "prep_z q[1] #state initialization in the z-basis in the |0> state\n",
    "prep_z q[2] #state initialization in the z-basis in the |0> state\n",
    "prep_z q[3]\n",
    "prep_z q[4]\n",
    "\n",
    "H q[0] #execute Hadamard gate on qubit 0\n",
    "CNOT q[0],q[1] # CNOT gate between qubits 0 and 1\n",
    "CNOT q[0],q[2]\n",
    "CNOT q[0],q[3]\n",
    "CNOT q[0],q[4]\n",
    "\n",
    "\n",
    "\n",
    "\n",
    "Measure_x q[0] # Measurement on qubit 0 in the z-basis\n",
    "Measure_x q[1]\n",
    "Measure_x q[2]\n",
    "Measure_x q[3]\n",
    "Measure_x q[4]\n",
    "\n",
    "display # write the current quantum state to the output file\n",
    "'''\n",
    "\n",
    "result = qi.execute_qasm(qasm, backend_type=backend_type, number_of_shots=4096)\n",
    "\n",
    "if result.get('histogram', {}):\n",
    "    print(\"nice\")\n",
    "else:\n",
    "    reason = result.get('raw_text', 'No reason in result structure.')\n",
    "    print(f'Result structure does not contain proper histogram data. {reason}')\n"
   ]
  },
  {
   "cell_type": "code",
   "execution_count": null,
   "metadata": {},
   "outputs": [],
   "source": []
  }
 ],
 "metadata": {
  "kernelspec": {
   "display_name": "emergent_classicality",
   "language": "python",
   "name": "python3"
  },
  "language_info": {
   "codemirror_mode": {
    "name": "ipython",
    "version": 3
   },
   "file_extension": ".py",
   "mimetype": "text/x-python",
   "name": "python",
   "nbconvert_exporter": "python",
   "pygments_lexer": "ipython3",
   "version": "3.11.5"
  },
  "orig_nbformat": 4
 },
 "nbformat": 4,
 "nbformat_minor": 2
}
