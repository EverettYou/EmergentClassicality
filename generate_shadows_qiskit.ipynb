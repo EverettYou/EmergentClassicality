{
 "cells": [
  {
   "cell_type": "code",
   "execution_count": 1,
   "metadata": {},
   "outputs": [
    {
     "name": "stdout",
     "output_type": "stream",
     "text": [
      "Intel MKL WARNING: Support of Intel(R) Streaming SIMD Extensions 4.2 (Intel(R) SSE4.2) enabled only processors has been deprecated. Intel oneAPI Math Kernel Library 2025.0 will require Intel(R) Advanced Vector Extensions (Intel(R) AVX) instructions.\n",
      "Intel MKL WARNING: Support of Intel(R) Streaming SIMD Extensions 4.2 (Intel(R) SSE4.2) enabled only processors has been deprecated. Intel oneAPI Math Kernel Library 2025.0 will require Intel(R) Advanced Vector Extensions (Intel(R) AVX) instructions.\n"
     ]
    }
   ],
   "source": [
    "# Import the necessary libraries\n",
    "from qiskit import QuantumCircuit, transpile, Aer, execute\n",
    "import matplotlib.pyplot as plt\n",
    "import random\n",
    "import pandas as pd\n"
   ]
  },
  {
   "cell_type": "code",
   "execution_count": 31,
   "metadata": {},
   "outputs": [],
   "source": [
    "nr_qubits = 6\n",
    "control_qubit = 0\n",
    "\n",
    "# Create an empty DataFrame with columns for measurement basis and result\n",
    "df = pd.DataFrame(columns=[\"Measurement Basis\", \"Measured Result\"])"
   ]
  },
  {
   "cell_type": "code",
   "execution_count": 46,
   "metadata": {},
   "outputs": [
    {
     "name": "stdout",
     "output_type": "stream",
     "text": [
      "['z', 'x', 'x', 'z', 'z', 'y']\n",
      "  Measurement Basis  Measured Result\n",
      "0                 z                1\n",
      "1                 x                0\n",
      "2                 x                1\n",
      "3                 z                1\n",
      "4                 z                1\n",
      "5                 y                1\n"
     ]
    }
   ],
   "source": [
    "\n",
    "# Create a quantum circuit with 3 qubits\n",
    "qc = QuantumCircuit(nr_qubits)\n",
    "\n",
    "def initialize_all_zeros(nr_qubits):\n",
    "    # Create a quantum circuit with N qubits\n",
    "    qc = QuantumCircuit(nr_qubits)\n",
    "    \n",
    "    # Initialize all qubits in the |0⟩ state\n",
    "    for qubit in range(nr_qubits):\n",
    "        qc.initialize([1, 0], qubit)\n",
    "    \n",
    "    return qc\n",
    "\n",
    "def apply_cnot_chain(qc, control_qubit, nr_qubits):\n",
    "    # Apply CNOT gates from the control qubit to the list of target qubits\n",
    "    for target_qubit in range(nr_qubits-1):\n",
    "        qc.cx(control_qubit, target_qubit+1)\n",
    "\n",
    "\n",
    "\n",
    "\n",
    "qc = initialize_all_zeros(nr_qubits)\n",
    "# Apply a Hadamard gate to qubit 0\n",
    "qc.h(control_qubit)\n",
    "apply_cnot_chain(qc, control_qubit, nr_qubits)\n",
    "\n",
    "\n",
    "\n",
    "def random_measurement_basis(nr_qubits):\n",
    "    measurement_basis = ['x', 'y', 'z']\n",
    "    return [random.choice(measurement_basis) for _ in range(nr_qubits)]\n",
    "\n",
    "\n",
    "measurement_bases = random_measurement_basis(nr_qubits)\n",
    "print(measurement_bases)\n",
    "\n",
    "\n",
    "for qubit in range(nr_qubits):\n",
    "    # print('start', qubit)\n",
    "    if measurement_bases[qubit] == 'x':\n",
    "        qc.h(qubit)\n",
    "        # print('qubit x', qubit)\n",
    "    elif measurement_bases[qubit] == 'y':\n",
    "        qc.sdg(qubit)\n",
    "        qc.h(qubit)\n",
    "        # print('qubit y', qubit)\n",
    "\n",
    "\n",
    "\n",
    "\n",
    "# Add measurements for all qubits in the Z basis\n",
    "qc.measure_all()\n",
    "\n",
    "# Simulate the circuit and get measurement results\n",
    "simulator = Aer.get_backend('qasm_simulator')\n",
    "job = execute(qc, simulator, shots=1)\n",
    "result = job.result()\n",
    "counts = result.get_counts(qc)\n",
    "\n",
    "# Iterate through the qubits and add their measurement results to the DataFrame\n",
    "# measurement_bases = random_measurement_basis(nr_qubits)\n",
    "# for qubit in range(nr_qubits):\n",
    "#     basis = measurement_bases[qubit]\n",
    "#     result = int(list(counts.keys())[0][nr_qubits - 1 - qubit])  # Extract the result\n",
    "#     df = pd.concat([df, pd.DataFrame({\"Measurement Basis\": [basis], \"Measured Result\": [result]})])\n",
    "\n",
    "# Display the DataFrame\n",
    "# print(df)\n",
    "\n",
    "\n",
    "# Initialize a list to store the rows\n",
    "rows = []\n",
    "\n",
    "# Iterate through the qubits and add their measurement results to the list\n",
    "for qubit in range(nr_qubits):\n",
    "    basis = measurement_bases[qubit]\n",
    "    result = int(list(counts.keys())[0][nr_qubits - 1 - qubit])  # Extract the result\n",
    "    rows.append(pd.DataFrame({\"Measurement Basis\": [basis], \"Measured Result\": [result]}))\n",
    "\n",
    "# Concatenate the rows into the DataFrame and reset the index\n",
    "df = pd.concat(rows, ignore_index=True)\n",
    "\n",
    "# Display the DataFrame\n",
    "print(df)\n",
    "\n",
    "\n",
    "\n",
    "\n"
   ]
  },
  {
   "cell_type": "code",
   "execution_count": null,
   "metadata": {},
   "outputs": [],
   "source": []
  },
  {
   "cell_type": "code",
   "execution_count": null,
   "metadata": {},
   "outputs": [],
   "source": []
  },
  {
   "cell_type": "code",
   "execution_count": null,
   "metadata": {},
   "outputs": [],
   "source": []
  },
  {
   "cell_type": "code",
   "execution_count": null,
   "metadata": {},
   "outputs": [],
   "source": []
  },
  {
   "cell_type": "code",
   "execution_count": null,
   "metadata": {},
   "outputs": [],
   "source": []
  },
  {
   "cell_type": "code",
   "execution_count": 29,
   "metadata": {},
   "outputs": [
    {
     "data": {
      "image/png": "[encoded data removed]",
      "text/plain": [
       "<Figure size 432x288 with 1 Axes>"
      ]
     },
     "metadata": {
      "needs_background": "light"
     },
     "output_type": "display_data"
    }
   ],
   "source": [
    "\n",
    "\n",
    "# Create a quantum circuit with 3 qubits\n",
    "qc = QuantumCircuit(3)\n",
    "\n",
    "# Initialize all qubits in the |0⟩ state\n",
    "qc.initialize([1, 0], 0)  # Initialize qubit 0 in |0⟩\n",
    "qc.initialize([1, 0], 1)  # Initialize qubit 1 in |0⟩\n",
    "qc.initialize([1, 0], 2)  # Initialize qubit 2 in |0⟩\n",
    "\n",
    "# Apply a Hadamard gate to qubit 0\n",
    "qc.h(0)\n",
    "\n",
    "# Apply CNOT gates from qubit 0 to qubits 1 and 2\n",
    "qc.cx(0, 1)  # CNOT from qubit 0 to qubit 1\n",
    "qc.cx(0, 2)  # CNOT from qubit 0 to qubit 2\n",
    "\n",
    "# Measure all qubits in the X-axis (Hadamard basis)\n",
    "qc.h(0)\n",
    "qc.h(1)\n",
    "qc.h(2)\n",
    "\n",
    "# Add measurements to the circuit\n",
    "qc.measure_all()\n",
    "qc.draw(output='mpl')\n",
    "plt.show()\n",
    "\n",
    "\n",
    "# Simulate the circuit and get measurement results\n",
    "simulator = Aer.get_backend('qasm_simulator')\n",
    "job = execute(qc, simulator, shots=1024)  # You can adjust the number of shots\n",
    "result = job.result()\n",
    "counts = result.get_counts(qc)\n",
    "\n",
    "# Create a list of binary state labels\n",
    "state_labels = [format(i, '03b') for i in range(8)]\n",
    "\n",
    "# Extract the counts in the order of the state labels\n",
    "state_counts = [counts.get(label, 0) for label in state_labels]\n",
    "\n",
    "# Create a bar chart with x-axis labels\n",
    "plt.bar(state_labels, state_counts)\n",
    "plt.xlabel('Binary States')\n",
    "plt.ylabel('Counts')\n",
    "plt.title('Measurement Results')\n",
    "plt.show()\n"
   ]
  },
  {
   "cell_type": "code",
   "execution_count": null,
   "metadata": {},
   "outputs": [],
   "source": []
  },
  {
   "cell_type": "code",
   "execution_count": 30,
   "metadata": {},
   "outputs": [
    {
     "data": {
      "image/png": "[encoded data removed]",
      "text/plain": [
       "<Figure size 864x288 with 2 Axes>"
      ]
     },
     "metadata": {
      "needs_background": "light"
     },
     "output_type": "display_data"
    }
   ],
   "source": [
    "# Create a quantum circuit with 3 qubits\n",
    "qc = QuantumCircuit(3)\n",
    "\n",
    "# Initialize all qubits in the |0⟩ state\n",
    "qc.initialize([1, 0], 0)  # Initialize qubit 0 in |0⟩\n",
    "qc.initialize([1, 0], 1)  # Initialize qubit 1 in |0⟩\n",
    "qc.initialize([1, 0], 2)  # Initialize qubit 2 in |0⟩\n",
    "\n",
    "# Apply a Hadamard gate to qubit 0\n",
    "qc.h(0)\n",
    "\n",
    "# Apply CNOT gates from qubit 0 to qubits 1 and 2\n",
    "qc.cx(0, 1)  # CNOT from qubit 0 to qubit 1\n",
    "qc.cx(0, 2)  # CNOT from qubit 0 to qubit 2\n",
    "\n",
    "# Measure all qubits in the X-axis (Hadamard basis)\n",
    "qc.h(0)\n",
    "qc.h(1)\n",
    "qc.h(2)\n",
    "\n",
    "# Add measurements to the circuit\n",
    "qc.measure_all()\n",
    "\n",
    "# Simulate the circuit and get measurement results\n",
    "simulator = Aer.get_backend('qasm_simulator')\n",
    "job = execute(qc, simulator, shots=1024)  # You can adjust the number of shots\n",
    "result = job.result()\n",
    "counts = result.get_counts(qc)\n",
    "\n",
    "# Create a list of binary state labels\n",
    "state_labels = [format(i, '03b') for i in range(8)]\n",
    "\n",
    "# Extract the counts in the order of the state labels\n",
    "state_counts = [counts.get(label, 0) for label in state_labels]\n",
    "\n",
    "# Create a subplot with two plots\n",
    "fig, axs = plt.subplots(1, 2, figsize=(12, 4))\n",
    "\n",
    "# Plot the circuit diagram\n",
    "axs[0].set_title(\"Quantum Circuit\")\n",
    "qc.draw(output='mpl', ax=axs[0])\n",
    "\n",
    "# Plot the histogram with x-axis labels\n",
    "axs[1].set_title(\"Measurement Results\")\n",
    "axs[1].bar(state_labels, state_counts)\n",
    "axs[1].set_xlabel('Binary States')\n",
    "axs[1].set_ylabel('Counts')\n",
    "\n",
    "# Adjust spacing between subplots\n",
    "plt.tight_layout()\n",
    "\n",
    "# Show both plots\n",
    "plt.show()\n"
   ]
  },
  {
   "cell_type": "code",
   "execution_count": null,
   "metadata": {},
   "outputs": [],
   "source": []
  }
 ],
 "metadata": {
  "kernelspec": {
   "display_name": "emergent_classicality",
   "language": "python",
   "name": "python3"
  },
  "language_info": {
   "codemirror_mode": {
    "name": "ipython",
    "version": 3
   },
   "file_extension": ".py",
   "mimetype": "text/x-python",
   "name": "python",
   "nbconvert_exporter": "python",
   "pygments_lexer": "ipython3",
   "version": "3.11.5"
  },
  "orig_nbformat": 4
 },
 "nbformat": 4,
 "nbformat_minor": 2
}
