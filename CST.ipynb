{
 "cells": [
  {
   "cell_type": "markdown",
   "id": "c521c87c-80a8-49b8-aeb5-b2315fe22957",
   "metadata": {},
   "source": [
    "# Classical Shadow Transformer"
   ]
  },
  {
   "cell_type": "markdown",
   "id": "19afc649-dd30-4b97-8e80-4d4af3a53bdb",
   "metadata": {},
   "source": [
    "## Initialization"
   ]
  },
  {
   "cell_type": "code",
   "execution_count": 33,
   "id": "d89fe125-8a42-446d-a0c5-c3c054625614",
   "metadata": {},
   "outputs": [],
   "source": [
    "%run 'CST.py'\n",
    "import matplotlib.pyplot as plt\n",
    "import pickle\n",
    "device = torch.device('cpu') # 'cpu', 'cuda', 'mps' ..."
   ]
  },
  {
   "cell_type": "markdown",
   "id": "1d0b2f56-b6bf-44dd-bcbb-e06ed670bab8",
   "metadata": {
    "jp-MarkdownHeadingCollapsed": true,
    "tags": []
   },
   "source": [
    "## Testing"
   ]
  },
  {
   "cell_type": "markdown",
   "id": "97e105e3-0435-42c0-9e2c-609b868e4e92",
   "metadata": {
    "jp-MarkdownHeadingCollapsed": true,
    "tags": []
   },
   "source": [
    "### Transformer"
   ]
  },
  {
   "cell_type": "markdown",
   "id": "1d2f92b4-fda7-40cc-9902-086c9926ecf2",
   "metadata": {
    "jp-MarkdownHeadingCollapsed": true,
    "tags": []
   },
   "source": [
    "#### Test 1: Log Probability Estimation"
   ]
  },
  {
   "cell_type": "markdown",
   "id": "115a596c-62c0-4a76-97ce-cdcb1cd12d01",
   "metadata": {},
   "source": [
    "**Goal:** show that the log probability accumulated at sampling is the same as log probability evaluated by the model directly."
   ]
  },
  {
   "cell_type": "markdown",
   "id": "235034e9-ca67-449b-9105-f0dbdda9fa31",
   "metadata": {},
   "source": [
    "Create a model and put into evaluation mode (to disable dropout)."
   ]
  },
  {
   "cell_type": "code",
   "execution_count": 115,
   "id": "74c8b276-db01-4f36-9b90-63948af5cb3e",
   "metadata": {},
   "outputs": [],
   "source": [
    "tf = Transformer(outtk_size=2)\n",
    "tf.eval()\n",
    "x = torch.tensor([[4],[4],[5],[5],[6],[6]])"
   ]
  },
  {
   "cell_type": "code",
   "execution_count": 116,
   "id": "9d419e68-a3b7-4b63-9d66-b70854ea09bd",
   "metadata": {},
   "outputs": [
    {
     "data": {
      "text/plain": [
       "(tensor([[1],\n",
       "         [1],\n",
       "         [1],\n",
       "         [1],\n",
       "         [1],\n",
       "         [2]]),\n",
       " tensor([-0.1394, -0.1394, -0.2494, -0.2494, -0.2867, -1.3893]))"
      ]
     },
     "execution_count": 116,
     "metadata": {},
     "output_type": "execute_result"
    }
   ],
   "source": [
    "y, logprob = tf.sample(x, 1, need_logprob=True)\n",
    "y, logprob"
   ]
  },
  {
   "cell_type": "code",
   "execution_count": 117,
   "id": "2cb3d9dd-bff0-43e7-ac81-3d9317e2c7d6",
   "metadata": {
    "tags": []
   },
   "outputs": [
    {
     "data": {
      "text/plain": [
       "tensor([-0.1394, -0.1394, -0.2494, -0.2494, -0.2867, -1.3893],\n",
       "       grad_fn=<SumBackward1>)"
      ]
     },
     "execution_count": 117,
     "metadata": {},
     "output_type": "execute_result"
    }
   ],
   "source": [
    "tf.logprob(x, y)"
   ]
  },
  {
   "cell_type": "markdown",
   "id": "06d3553e-1cbe-4645-96f8-a4bd838380a5",
   "metadata": {},
   "source": [
    "Results are matched up."
   ]
  },
  {
   "cell_type": "markdown",
   "id": "2a89739d-1656-4129-bf74-6c0d17574fde",
   "metadata": {
    "jp-MarkdownHeadingCollapsed": true,
    "tags": []
   },
   "source": [
    "#### Test 2: Generative Modeling"
   ]
  },
  {
   "cell_type": "markdown",
   "id": "0f0d0418-da1c-4ebb-8f8a-6167c7d43fc2",
   "metadata": {},
   "source": [
    "**Goal:** test the ability of the transformer model to learn sequence-to-sequence map."
   ]
  },
  {
   "cell_type": "code",
   "execution_count": 118,
   "id": "1a8df019-0a2f-4d71-b247-2e7fce9d40b3",
   "metadata": {},
   "outputs": [],
   "source": [
    "tf = Transformer(outtk_size=2)\n",
    "x = torch.tensor([[4],[4],[5],[5],[6],[6],[6]])\n",
    "y = torch.tensor([[1],[1],[1],[2],[1],[2],[2]])\n",
    "y1 = torch.tensor([[1],[2],[1],[2],[1],[2],[2]])"
   ]
  },
  {
   "cell_type": "code",
   "execution_count": 119,
   "id": "576ac1c1-b4fe-4aeb-aabd-fddfe73b7b2a",
   "metadata": {},
   "outputs": [],
   "source": [
    "optimizer = torch.optim.Adam(tf.parameters(), lr=0.001)"
   ]
  },
  {
   "cell_type": "code",
   "execution_count": 138,
   "id": "6f25a2a4-18fe-4522-aeed-658dd9317880",
   "metadata": {},
   "outputs": [
    {
     "name": "stdout",
     "output_type": "stream",
     "text": [
      "  0:   0.4342\n",
      "  1:   0.4614\n",
      "  2:  0.52217\n",
      "  3:  0.48025\n",
      "  4:  0.43548\n",
      "  5:  0.44449\n",
      "  6:  0.47305\n",
      "  7:  0.45674\n",
      "  8:  0.49512\n",
      "  9:  0.46951\n"
     ]
    }
   ],
   "source": [
    "tf.train()\n",
    "for epoch in range(10):\n",
    "    optimizer.zero_grad()\n",
    "    loss = -tf.logprob(x, y).mean()\n",
    "    loss.backward()\n",
    "    optimizer.step()\n",
    "    print('{:3d}: {:8.5g}'.format(epoch, loss.item()))"
   ]
  },
  {
   "cell_type": "markdown",
   "id": "dd795a2e-3c16-4a52-b916-b629c07a77f1",
   "metadata": {},
   "source": [
    "Learns to predict $y$ from $x$."
   ]
  },
  {
   "cell_type": "code",
   "execution_count": 139,
   "id": "7835801e-f8d9-4e30-be5d-f0816f5a26f5",
   "metadata": {},
   "outputs": [
    {
     "data": {
      "text/plain": [
       "[0.9981397390365601,\n",
       " 0.0018602701602503657,\n",
       " 0.4812822937965393,\n",
       " 0.5187177062034607,\n",
       " 0.3203440308570862,\n",
       " 0.6796560287475586,\n",
       " 0.6796559691429138]"
      ]
     },
     "execution_count": 139,
     "metadata": {},
     "output_type": "execute_result"
    }
   ],
   "source": [
    "tf.eval()\n",
    "tf.logprob(x, y1).exp().tolist()"
   ]
  },
  {
   "cell_type": "markdown",
   "id": "8f795833-3f5a-4133-9f0c-fb816b24eb4c",
   "metadata": {
    "jp-MarkdownHeadingCollapsed": true,
    "tags": []
   },
   "source": [
    "#### Test 3: VAE loss"
   ]
  },
  {
   "cell_type": "markdown",
   "id": "5b39eda9-b791-4bc8-8a6f-4c1e08193bd8",
   "metadata": {},
   "source": [
    "**Goal**: test training the transformer with VAE bottleneck"
   ]
  },
  {
   "cell_type": "code",
   "execution_count": 142,
   "id": "d7ebe248-da2a-4010-9423-1f75e802cf8d",
   "metadata": {},
   "outputs": [],
   "source": [
    "tf = Transformer(outtk_size=2)\n",
    "x = torch.tensor([[4],[4],[5],[5],[6],[6],[6]])\n",
    "y = torch.tensor([[1],[1],[1],[2],[1],[2],[2]])\n",
    "y1 = torch.tensor([[1],[2],[1],[2],[1],[2],[2]])"
   ]
  },
  {
   "cell_type": "code",
   "execution_count": 279,
   "id": "4b5ebfd6-fb38-4bd8-a224-1551ad8bd58b",
   "metadata": {},
   "outputs": [],
   "source": [
    "optimizer = torch.optim.Adam(tf.parameters(), lr=0.001)"
   ]
  },
  {
   "cell_type": "code",
   "execution_count": 305,
   "id": "ed6de0be-360a-470d-b106-9b2541f722d5",
   "metadata": {},
   "outputs": [
    {
     "name": "stdout",
     "output_type": "stream",
     "text": [
      "  0:  0.47548 -0.47548 0.088517\n",
      "  1:  0.47102 -0.47102 0.084518\n",
      "  2:  0.47253 -0.47253  0.08645\n",
      "  3:  0.49983 -0.49983 0.093724\n",
      "  4:  0.49508 -0.49508 0.093193\n",
      "  5:  0.49188 -0.49188 0.094215\n",
      "  6:  0.52442 -0.52442 0.094695\n",
      "  7:  0.48772 -0.48772 0.097381\n",
      "  8:  0.49937 -0.49937 0.092148\n",
      "  9:  0.50927 -0.50927  0.09975\n"
     ]
    }
   ],
   "source": [
    "tf.train()\n",
    "for epoch in range(10):\n",
    "    optimizer.zero_grad()\n",
    "    loss, logprob, kld = tf.loss(x, y, beta=0.)\n",
    "    loss.backward()\n",
    "    optimizer.step()\n",
    "    print(f'{epoch:3d}: {loss.item():8.5g} {logprob.item():8.5g} {kld.item():8.5g}')"
   ]
  },
  {
   "cell_type": "markdown",
   "id": "f0777c5b-732a-4030-9ded-3b813d079199",
   "metadata": {},
   "source": [
    "Learns to predict $y$ from $x$."
   ]
  },
  {
   "cell_type": "code",
   "execution_count": 306,
   "id": "69af57fe-69f3-4669-9785-2cf5231e3e87",
   "metadata": {},
   "outputs": [
    {
     "data": {
      "text/plain": [
       "[0.9942954182624817,\n",
       " 0.005704515613615513,\n",
       " 0.39582639932632446,\n",
       " 0.6041736006736755,\n",
       " 0.3208656907081604,\n",
       " 0.6791343092918396,\n",
       " 0.6791343092918396]"
      ]
     },
     "execution_count": 306,
     "metadata": {},
     "output_type": "execute_result"
    }
   ],
   "source": [
    "tf.eval()\n",
    "tf.logprob(x, y1).exp().tolist()"
   ]
  },
  {
   "cell_type": "markdown",
   "id": "cf4fb0d1-6f77-4e03-805d-7b10801de75d",
   "metadata": {},
   "source": [
    "Now the accuracy can be controlled by the hyperparameter $\\beta$."
   ]
  },
  {
   "cell_type": "markdown",
   "id": "96e7e10c-0482-47a2-8e0f-aa9c3bc9430d",
   "metadata": {
    "jp-MarkdownHeadingCollapsed": true,
    "tags": []
   },
   "source": [
    "#### Test 4: Sampling"
   ]
  },
  {
   "cell_type": "markdown",
   "id": "2ff30b67-3f0b-47a9-9399-50eb331face9",
   "metadata": {},
   "source": [
    "**Goal**: test sampling and completion."
   ]
  },
  {
   "cell_type": "code",
   "execution_count": 333,
   "id": "2771c8c8-3569-4125-8b76-5df291f2409f",
   "metadata": {},
   "outputs": [
    {
     "data": {
      "text/plain": [
       "tensor([[2, 1, 2, 2],\n",
       "        [1, 1, 1, 2],\n",
       "        [1, 2, 2, 2]])"
      ]
     },
     "execution_count": 333,
     "metadata": {},
     "output_type": "execute_result"
    }
   ],
   "source": [
    "tf = Transformer(outtk_size=2)\n",
    "x = torch.randint(4,7,(3,5))\n",
    "tf.sample(x)"
   ]
  },
  {
   "cell_type": "markdown",
   "id": "7682be8f-68b2-4d74-9303-1abdb222a0fe",
   "metadata": {},
   "source": [
    "Completion task."
   ]
  },
  {
   "cell_type": "code",
   "execution_count": 338,
   "id": "fe82fd87-1d2f-4ec6-9ee9-893a1006d5d8",
   "metadata": {},
   "outputs": [
    {
     "data": {
      "text/plain": [
       "tensor([[2, 1],\n",
       "        [2, 2],\n",
       "        [1, 1]])"
      ]
     },
     "execution_count": 338,
     "metadata": {},
     "output_type": "execute_result"
    }
   ],
   "source": [
    "y = torch.randint(1,3,(3,2))\n",
    "y"
   ]
  },
  {
   "cell_type": "code",
   "execution_count": 339,
   "id": "c0d05e36-40b1-4bae-8a2c-ff9cf08e522d",
   "metadata": {},
   "outputs": [
    {
     "data": {
      "text/plain": [
       "tensor([[2, 1, 2, 2],\n",
       "        [2, 2, 1, 2],\n",
       "        [1, 1, 2, 1]])"
      ]
     },
     "execution_count": 339,
     "metadata": {},
     "output_type": "execute_result"
    }
   ],
   "source": [
    "tf.sample(x, tgt_seq=y)"
   ]
  },
  {
   "cell_type": "markdown",
   "id": "0ac92617-cb93-4153-8a0c-326042ccf9e5",
   "metadata": {
    "jp-MarkdownHeadingCollapsed": true,
    "tags": []
   },
   "source": [
    "### Operator"
   ]
  },
  {
   "cell_type": "markdown",
   "id": "a3c2c72a-d335-48a6-aa29-57f50e1badb3",
   "metadata": {
    "jp-MarkdownHeadingCollapsed": true,
    "tags": []
   },
   "source": [
    "#### Test 1: Operator Algebra"
   ]
  },
  {
   "cell_type": "markdown",
   "id": "71ee9df4-3ec2-42c5-84ea-2584e974007a",
   "metadata": {},
   "source": [
    "**Goal:** test operator algebra are correct"
   ]
  },
  {
   "cell_type": "code",
   "execution_count": 307,
   "id": "1e958809-1e0d-46e0-9822-dfac89af38d3",
   "metadata": {},
   "outputs": [
    {
     "data": {
      "text/plain": [
       "[I, X, Y, Z]"
      ]
     },
     "execution_count": 307,
     "metadata": {},
     "output_type": "execute_result"
    }
   ],
   "source": [
    "ops = [pauli([i]) for i in range(4)]\n",
    "ops"
   ]
  },
  {
   "cell_type": "markdown",
   "id": "c9f8a420-220b-49ee-917c-6a7ff0b18609",
   "metadata": {},
   "source": [
    "Multiplication table of Pauli operators"
   ]
  },
  {
   "cell_type": "code",
   "execution_count": 308,
   "id": "0386bb23-2288-4c7e-bc3b-e39080ce9f92",
   "metadata": {},
   "outputs": [
    {
     "name": "stdout",
     "output_type": "stream",
     "text": [
      "I @ I = I\n",
      "I @ X = X\n",
      "I @ Y = Y\n",
      "I @ Z = Z\n",
      "X @ I = X\n",
      "X @ X = I\n",
      "X @ Y = i Z\n",
      "X @ Z = -i Y\n",
      "Y @ I = Y\n",
      "Y @ X = -i Z\n",
      "Y @ Y = I\n",
      "Y @ Z = i X\n",
      "Z @ I = Z\n",
      "Z @ X = i Y\n",
      "Z @ Y = -i X\n",
      "Z @ Z = I\n"
     ]
    }
   ],
   "source": [
    "for op1 in ops: \n",
    "    for op2 in ops:\n",
    "        print(f'{op1} @ {op2} = {op1 @ op2}')"
   ]
  },
  {
   "cell_type": "markdown",
   "id": "648cdd31-9c93-4a61-8112-5a6a1e8b4e83",
   "metadata": {
    "jp-MarkdownHeadingCollapsed": true,
    "tags": []
   },
   "source": [
    "#### Test 2: Operator Gradient"
   ]
  },
  {
   "cell_type": "markdown",
   "id": "207da3cd-3dd6-4743-b656-33e3c016e234",
   "metadata": {},
   "source": [
    "Example: construct an operator"
   ]
  },
  {
   "cell_type": "code",
   "execution_count": 309,
   "id": "823d8aec-1b90-4f1e-b6b4-43c059542a6f",
   "metadata": {},
   "outputs": [
    {
     "data": {
      "text/plain": [
       "X + i Y -2 Z"
      ]
     },
     "execution_count": 309,
     "metadata": {},
     "output_type": "execute_result"
    }
   ],
   "source": [
    "O = pauli('X') + 1j * pauli('Y') - 2 * pauli('Z')\n",
    "O"
   ]
  },
  {
   "cell_type": "code",
   "execution_count": 310,
   "id": "151aac7c-704c-4107-a7ab-937efd137193",
   "metadata": {},
   "outputs": [
    {
     "data": {
      "text/plain": [
       "X + i Y -2 Z (requires_grad=True)"
      ]
     },
     "execution_count": 310,
     "metadata": {},
     "output_type": "execute_result"
    }
   ],
   "source": [
    "O = O.requires_grad_()\n",
    "O"
   ]
  },
  {
   "cell_type": "code",
   "execution_count": 311,
   "id": "11e9e9c5-a183-4661-8ee3-ee2dd63a1cf6",
   "metadata": {},
   "outputs": [
    {
     "data": {
      "text/plain": [
       "6 I -4 X -2 Z (grad_fn=<class 'IndexBackward0'>)"
      ]
     },
     "execution_count": 311,
     "metadata": {},
     "output_type": "execute_result"
    }
   ],
   "source": [
    "O.H @ O"
   ]
  },
  {
   "cell_type": "markdown",
   "id": "441bc50e-59ee-47e4-80c3-30711204767d",
   "metadata": {},
   "source": [
    "Operator norm is defined to be $\\Vert O\\Vert^2=\\mathrm{Tr}\\,O^\\dagger O$"
   ]
  },
  {
   "cell_type": "code",
   "execution_count": 312,
   "id": "2ef4e9f9-1944-4f44-b333-8613da1aa85d",
   "metadata": {},
   "outputs": [
    {
     "data": {
      "text/plain": [
       "tensor(6., grad_fn=<SelectBackward0>)"
      ]
     },
     "execution_count": 312,
     "metadata": {},
     "output_type": "execute_result"
    }
   ],
   "source": [
    "O.norm()"
   ]
  },
  {
   "cell_type": "code",
   "execution_count": 313,
   "id": "a20ba11b-e7c8-4e8b-9f8d-ded07e8ac9d9",
   "metadata": {},
   "outputs": [
    {
     "data": {
      "text/plain": [
       "2 X + (0.00+2.00i) Y -4 Z"
      ]
     },
     "execution_count": 313,
     "metadata": {},
     "output_type": "execute_result"
    }
   ],
   "source": [
    "O.norm().backward()\n",
    "O.grad"
   ]
  },
  {
   "cell_type": "markdown",
   "id": "fae5c69d-ae5c-4eab-8566-d25c206727ea",
   "metadata": {
    "jp-MarkdownHeadingCollapsed": true,
    "tags": []
   },
   "source": [
    "### Shadow"
   ]
  },
  {
   "cell_type": "markdown",
   "id": "ff165dd3-0b29-41da-9e38-b3d24c0630ea",
   "metadata": {
    "jp-MarkdownHeadingCollapsed": true,
    "tags": []
   },
   "source": [
    "#### Test 1: Shadow Evaluate "
   ]
  },
  {
   "cell_type": "markdown",
   "id": "4c003d71-f5f7-44b3-a574-8e93681dc562",
   "metadata": {},
   "source": [
    "**Goal:** evaluate operator expectation value on a shadow dataset."
   ]
  },
  {
   "cell_type": "code",
   "execution_count": 314,
   "id": "601bf235-543d-4ef6-8bac-f2f8fdffd549",
   "metadata": {},
   "outputs": [
    {
     "data": {
      "text/plain": [
       "| +Y +X -Y |\n",
       "| +Y -Z +Y |\n",
       "| -Z -Z +Y |\n",
       "| +Z +X +X |\n",
       "| -Z -Y +Y |\n",
       "| +Y +X -Y |\n",
       "| +Z -X +Y |\n",
       "| +X +Y -Z |\n",
       "| +Z -Y +Z |\n",
       "| +Z -X +X |\n",
       "| -Y +X -Z |\n",
       "| -Y +Y +X |\n",
       "| -Z +Y +Y |\n",
       "| +Z -Y +X |\n",
       "| +Y +Z +Z |\n",
       "| -Z +Y -Z |\n",
       "..."
      ]
     },
     "execution_count": 314,
     "metadata": {},
     "output_type": "execute_result"
    }
   ],
   "source": [
    "shd = ghz_shadow(3, 1000)\n",
    "shd"
   ]
  },
  {
   "cell_type": "code",
   "execution_count": 315,
   "id": "785f8c77-d592-48a2-a2a7-fb02ce38f295",
   "metadata": {},
   "outputs": [
    {
     "data": {
      "text/plain": [
       "tensor(1.0260+0.j)"
      ]
     },
     "execution_count": 315,
     "metadata": {},
     "output_type": "execute_result"
    }
   ],
   "source": [
    "pauli('ZZI').expectation(shd)"
   ]
  },
  {
   "cell_type": "markdown",
   "id": "aa3d377d-323c-4be0-a58b-706a7f67950d",
   "metadata": {},
   "source": [
    "### ClassicalShadowTransformer"
   ]
  },
  {
   "cell_type": "markdown",
   "id": "065ee90a-0b25-4898-a0e1-0a661e5709a9",
   "metadata": {
    "jp-MarkdownHeadingCollapsed": true,
    "tags": []
   },
   "source": [
    "#### Test 1: Sampling"
   ]
  },
  {
   "cell_type": "markdown",
   "id": "dfd732b7-025f-4290-a9cc-f3629719e9a0",
   "metadata": {},
   "source": [
    "**Goal**: test sampling and state reconstruction"
   ]
  },
  {
   "cell_type": "code",
   "execution_count": 437,
   "id": "aa86f48a-5498-43c4-a459-6b5695e2bd69",
   "metadata": {},
   "outputs": [
    {
     "data": {
      "text/plain": [
       "| +Y -X |\n",
       "| -Z +Y |\n",
       "| +Y -X |\n",
       "| -Z +Y |\n",
       "| +Y +Y |\n",
       "| -Z -Y |"
      ]
     },
     "execution_count": 437,
     "metadata": {},
     "output_type": "execute_result"
    }
   ],
   "source": [
    "cst = ClassicalShadowTransformer(2,0)\n",
    "cst.sample(6)"
   ]
  },
  {
   "cell_type": "markdown",
   "id": "fdecda7f-6c35-4696-bf49-b56ef20f2c1f",
   "metadata": {},
   "source": [
    "Reconstruct density operator (matrix)."
   ]
  },
  {
   "cell_type": "code",
   "execution_count": 438,
   "id": "569c3ba8-d99d-47c2-b75a-371a6c14402b",
   "metadata": {},
   "outputs": [
    {
     "data": {
      "text/plain": [
       "1.00 II -0.03 IX -0.05 IY -0.04 IZ -0.17 XI -0.12 XX -0.16 XY -0.18 XZ -0.15 YI -0.14 YX -0.15 YY -0.17 YZ -0.24 ZI -0.13 ZX -0.13 ZY -0.12 ZZ (grad_fn=<class 'SqueezeBackward4'>)"
      ]
     },
     "execution_count": 438,
     "metadata": {},
     "output_type": "execute_result"
    }
   ],
   "source": [
    "rho = cst.rho()\n",
    "rho"
   ]
  },
  {
   "cell_type": "code",
   "execution_count": 439,
   "id": "60a71544-95a1-4f43-a8c0-9e053860e055",
   "metadata": {},
   "outputs": [
    {
     "data": {
      "text/plain": [
       "tensor([[ 0.1506+0.0000j, -0.0387+0.0459j, -0.0861+0.0784j,  0.0084+0.0748j],\n",
       "        [-0.0387-0.0459j,  0.2308+0.0000j, -0.0667-0.0040j,  0.0026-0.0048j],\n",
       "        [-0.0861-0.0784j, -0.0667+0.0040j,  0.3303+0.0000j,  0.0250-0.0207j],\n",
       "        [ 0.0084-0.0748j,  0.0026+0.0048j,  0.0250+0.0207j,  0.2883+0.0000j]],\n",
       "       grad_fn=<DivBackward0>)"
      ]
     },
     "execution_count": 439,
     "metadata": {},
     "output_type": "execute_result"
    }
   ],
   "source": [
    "rhomat = rho.matrix_form() / 2**2\n",
    "rhomat"
   ]
  },
  {
   "cell_type": "code",
   "execution_count": 440,
   "id": "fc1bc9db-d181-43ee-a261-53874893ca49",
   "metadata": {},
   "outputs": [
    {
     "data": {
      "text/plain": [
       "tensor([0.0451, 0.2285, 0.3046, 0.4218], grad_fn=<LinalgEighBackward0>)"
      ]
     },
     "execution_count": 440,
     "metadata": {},
     "output_type": "execute_result"
    }
   ],
   "source": [
    "torch.linalg.eigvalsh(rhomat)"
   ]
  },
  {
   "cell_type": "markdown",
   "id": "a7b357f8-2319-4091-ae7c-cf4c8b706f95",
   "metadata": {
    "jp-MarkdownHeadingCollapsed": true,
    "tags": []
   },
   "source": [
    "#### Test 2: Evaluation"
   ]
  },
  {
   "cell_type": "markdown",
   "id": "4c9334dd-037b-42ea-8ced-9c9848840051",
   "metadata": {},
   "source": [
    "**Goal**: test logprob and loss function evaluation."
   ]
  },
  {
   "cell_type": "code",
   "execution_count": 463,
   "id": "95ddf777-1a86-4237-9eed-6865aefab7c9",
   "metadata": {},
   "outputs": [],
   "source": [
    "cst = ClassicalShadowTransformer(2,0)\n",
    "cst.eval()\n",
    "shd = ghz_shadow(2,10)"
   ]
  },
  {
   "cell_type": "code",
   "execution_count": 464,
   "id": "d5f095f1-32d2-44ef-bb9d-cdf0d681fb4b",
   "metadata": {},
   "outputs": [
    {
     "data": {
      "text/plain": [
       "tensor([-1.1120, -0.7589, -1.8706, -1.9010, -2.6590, -1.9840, -1.8272, -1.1120,\n",
       "        -1.1237, -1.9840], grad_fn=<SumBackward1>)"
      ]
     },
     "execution_count": 464,
     "metadata": {},
     "output_type": "execute_result"
    }
   ],
   "source": [
    "cst.logprob(shd)"
   ]
  },
  {
   "cell_type": "code",
   "execution_count": 465,
   "id": "8a05ccc6-c03f-42ee-bf96-baec1e7500e4",
   "metadata": {},
   "outputs": [
    {
     "data": {
      "text/plain": [
       "(tensor(2.8074, grad_fn=<MeanBackward0>),\n",
       " tensor(-1.5925, grad_fn=<MeanBackward0>),\n",
       " tensor(1.2149, grad_fn=<MeanBackward0>))"
      ]
     },
     "execution_count": 465,
     "metadata": {},
     "output_type": "execute_result"
    }
   ],
   "source": [
    "cst.loss(shd)"
   ]
  },
  {
   "cell_type": "markdown",
   "id": "918c601b-e750-46c7-8f34-442de3e66038",
   "metadata": {},
   "source": [
    "## Training"
   ]
  },
  {
   "cell_type": "markdown",
   "id": "d4eafdd5-3704-483b-a795-8747e56cbbfe",
   "metadata": {},
   "source": [
    "### Batch Training"
   ]
  },
  {
   "cell_type": "markdown",
   "id": "68833c5a-e501-4340-ad70-0d0ac3c19c90",
   "metadata": {},
   "source": [
    "Scaning over parameter space and train a collection of models of different number of qubits and hyperparameter $\\beta$. `max_steps` - maximal optimization step, `nsr` - the noise signal ratio threshold for the loss function flucturation (optimization stop when the noise signal ratio is larger than this threshold), `window` - the window size used to estimate noise signal ratio (larger window size stricter convergence criterion), `n_sample` - number of classical shadow samples used in each iteration, `lr` -  learning rate."
   ]
  },
  {
   "cell_type": "code",
   "execution_count": null,
   "id": "0c50fc51-1db3-42d0-92eb-39c98b1ba824",
   "metadata": {
    "tags": []
   },
   "outputs": [],
   "source": [
    "for n_qubit in range(1,6):\n",
    "    for logbeta in range(-6,7):\n",
    "        cst = ClassicalShadowTransformer(n_qubit, logbeta).to(device).load()\n",
    "        cst.optimize(10000, max_steps=30000, nsr=32, window=400, n_sample=1000, lr=0.0001)"
   ]
  },
  {
   "cell_type": "markdown",
   "id": "f2c50c7f-21f6-468c-8a19-b2d0403439da",
   "metadata": {},
   "source": [
    "Inspect loss history to determine convergence."
   ]
  },
  {
   "cell_type": "code",
   "execution_count": 51,
   "id": "4e6f36ff-4b15-4314-9d2b-a95b5ef97a59",
   "metadata": {},
   "outputs": [
    {
     "data": {
      "text/plain": [
       "[<matplotlib.lines.Line2D at 0x7fde32433190>]"
      ]
     },
     "execution_count": 51,
     "metadata": {},
     "output_type": "execute_result"
    },
    {
     "data": {
      "image/png": "[encoded data removed]",
      "text/plain": [
       "<Figure size 640x480 with 1 Axes>"
      ]
     },
     "metadata": {},
     "output_type": "display_data"
    }
   ],
   "source": [
    "cst = ClassicalShadowTransformer(5,-4).load()\n",
    "#print(cst.transformer.repara.logvar)\n",
    "plt.plot(cst.loss_history[100:])"
   ]
  },
  {
   "cell_type": "markdown",
   "id": "26302402-5c12-487a-b50b-9e28f016dc0b",
   "metadata": {
    "jp-MarkdownHeadingCollapsed": true,
    "tags": []
   },
   "source": [
    "### Fine Tuning"
   ]
  },
  {
   "cell_type": "markdown",
   "id": "341f4426-d36f-40fb-b97e-c7159f33d432",
   "metadata": {},
   "source": [
    "If necessary, a model can be loaded for fine tuning with smaller training rate to ensure convergence."
   ]
  },
  {
   "cell_type": "code",
   "execution_count": 213,
   "id": "944ad39a-2502-48fb-8a21-60bcae7eb23e",
   "metadata": {},
   "outputs": [],
   "source": [
    "cst = ClassicalShadowTransformer(5, -6).load()"
   ]
  },
  {
   "cell_type": "code",
   "execution_count": 39,
   "id": "7e850afd-c559-45b6-8b5c-5aae269a082f",
   "metadata": {},
   "outputs": [
    {
     "name": "stdout",
     "output_type": "stream",
     "text": [
      "./model/CST_d64_h16_l1/GHZ_N5_b-4\n",
      "  0:  2.88058 -2.87172  0.14175 -0.28658\n"
     ]
    }
   ],
   "source": [
    "cst.optimize(1000, max_steps=10000, nsr=32, window=1000, n_sample=1000, lr=0.00001)"
   ]
  },
  {
   "cell_type": "markdown",
   "id": "fe082190-6c80-4291-9cd5-2ab3cd4e7e17",
   "metadata": {},
   "source": [
    "## Evaluation"
   ]
  },
  {
   "cell_type": "markdown",
   "id": "76c50cd5-278e-4e2d-8dc7-1232373d5e94",
   "metadata": {
    "jp-MarkdownHeadingCollapsed": true,
    "tags": []
   },
   "source": [
    "### Loss Function History"
   ]
  },
  {
   "cell_type": "code",
   "execution_count": 19,
   "id": "1e59c304-8d80-404b-9a5d-eb5373661613",
   "metadata": {},
   "outputs": [
    {
     "data": {
      "image/png": "[encoded data removed]",
      "text/plain": [
       "<Figure size 640x480 with 1 Axes>"
      ]
     },
     "metadata": {},
     "output_type": "display_data"
    }
   ],
   "source": [
    "for logbeta in range(-6,7):\n",
    "    cst = ClassicalShadowTransformer(4,logbeta).load()\n",
    "    plt.plot(cst.loss_history[-200:])"
   ]
  },
  {
   "cell_type": "markdown",
   "id": "91772a8c-cb30-4857-ac85-ea80db1c38ba",
   "metadata": {},
   "source": [
    "### Fidelity and Entropy Map"
   ]
  },
  {
   "cell_type": "markdown",
   "id": "6b7ab237-8755-408e-8ee7-95ec4b34812f",
   "metadata": {},
   "source": [
    "Compute fidelity and entropy (in unit of bit) of the reconstructed density matrix."
   ]
  },
  {
   "cell_type": "code",
   "execution_count": 84,
   "id": "2ed2f1f2-7f96-4290-b0c9-19ed8d065f06",
   "metadata": {},
   "outputs": [
    {
     "name": "stdout",
     "output_type": "stream",
     "text": [
      "./model/CST_d64_h16_l1/GHZ_N5_b6\n",
      "F = 0.06341645121574402, S = 4.413326740264893\n"
     ]
    }
   ],
   "source": [
    "data = []\n",
    "for n_qubit in range(1, 6):\n",
    "    for logbeta in range(-6, 7):\n",
    "        cst = ClassicalShadowTransformer(n_qubit, logbeta).load().eval()\n",
    "        with torch.no_grad():\n",
    "            rho = cst.rho().matrix_form()/2**cst.n_qubit # reconstruction\n",
    "        # compute fidelity\n",
    "        fid = (rho[0,0] + rho[-1,-1] + rho[0,-1] + rho[-1,0])/2\n",
    "        fid = fid.real.item()\n",
    "        vals = torch.linalg.eigvalsh(rho)\n",
    "        vals = vals[vals > 0.]\n",
    "        ent = -torch.log2(vals).dot(vals).item()\n",
    "        clear_output(wait=True)\n",
    "        print(cst.path + '/' + cst.file)\n",
    "        print(f'F = {fid}, S = {ent}')\n",
    "        data.append([n_qubit, logbeta, fid, ent])"
   ]
  },
  {
   "cell_type": "code",
   "execution_count": 78,
   "id": "a0367ddc-36d5-4508-bfb7-dfa695b2a726",
   "metadata": {},
   "outputs": [],
   "source": [
    "with open('./data/map.dat', 'wb') as f:\n",
    "    pickle.dump(data, f)"
   ]
  },
  {
   "cell_type": "markdown",
   "id": "8ed405a4-6f0b-42cd-b4ff-22caff3dfab9",
   "metadata": {},
   "source": [
    "Fidelity for 6 qubits (and beyond) can only be estimated by classical shadow tomography. First, prepare the GHZ state density matrix and convert it to Operator class."
   ]
  },
  {
   "cell_type": "code",
   "execution_count": 26,
   "id": "68644b36-f216-4ced-85e5-66bed257cd1e",
   "metadata": {},
   "outputs": [],
   "source": [
    "rho = qst.ghz_state(6).density_matrix\n",
    "tok = rho.tokenize()\n",
    "paulis = tok[:,:-1]\n",
    "coeffs = (9.-2.*tok[:,-1]) * rho.cs\n",
    "rho = Operator(torch.tensor(paulis), torch.tensor(coeffs))"
   ]
  },
  {
   "cell_type": "markdown",
   "id": "bd5fe5ab-dc24-41a8-a98d-514cdea21511",
   "metadata": {},
   "source": [
    "Then evaluate the expectation value of the density matrix on the classical shadow ensemble."
   ]
  },
  {
   "cell_type": "code",
   "execution_count": 33,
   "id": "e34594ec-fb41-424d-bc98-cd9fdc25027b",
   "metadata": {},
   "outputs": [
    {
     "name": "stdout",
     "output_type": "stream",
     "text": [
      "./model/CST_d128_h16_l2/GHZ_N6_b6\n",
      "F =  0.08763\n",
      "F =  0.06920\n",
      "F =  0.06147\n",
      "F =  0.07483\n",
      "F =  0.07469\n"
     ]
    }
   ],
   "source": [
    "#data = []\n",
    "for logbeta in range(2, 7):\n",
    "    cst = ClassicalShadowTransformer(6, logbeta, embed_dim=128, n_layers=2).load().eval();\n",
    "    clear_output(wait=True)\n",
    "    print(cst.path + '/' + cst.file)\n",
    "    fids = []\n",
    "    for _ in range(5):\n",
    "        shd = cst.sample(100000)\n",
    "        fid = rho.expectation(shd, batch_size=1000).real.item()\n",
    "        print(f'F = {fid:8.5f}')\n",
    "        fids.append(fid)\n",
    "    data.append([6, logbeta, fids])"
   ]
  },
  {
   "cell_type": "code",
   "execution_count": 35,
   "id": "1426c031-8a55-480b-9fdf-fb80599ff417",
   "metadata": {},
   "outputs": [],
   "source": [
    "with open('./data/fid6_d128_l2.dat', 'wb') as f:\n",
    "    pickle.dump(data, f)"
   ]
  },
  {
   "cell_type": "markdown",
   "id": "7dd3ac36-744b-4dcf-86d0-558ee85b005e",
   "metadata": {},
   "source": [
    "### Atlas Boreas Cygnus"
   ]
  },
  {
   "cell_type": "markdown",
   "id": "da28ee3a-b4d9-48fa-b126-0683b412af58",
   "metadata": {},
   "source": [
    "Take three representative models."
   ]
  },
  {
   "cell_type": "code",
   "execution_count": 44,
   "id": "a6b8d590-e27b-42e2-96af-9b7cc0926288",
   "metadata": {},
   "outputs": [],
   "source": [
    "mdls = {\n",
    "    'atlas': ClassicalShadowTransformer(5, -5).load().eval(),\n",
    "    'boreas': ClassicalShadowTransformer(5, -1).load().eval(),\n",
    "    'cygnus': ClassicalShadowTransformer(5, 6).load().eval()}"
   ]
  },
  {
   "cell_type": "markdown",
   "id": "5a962a6f-221e-492b-a883-66d9854414d2",
   "metadata": {},
   "source": [
    "Chat with the model. Dictionary:\n",
    "\n",
    "| Number | Symbol |\n",
    "|--------|--------|\n",
    "| `1`    | `+`    |\n",
    "| `2`    | `-`    |\n",
    "| `3`    | `I`    |\n",
    "| `4`    | `X`    |\n",
    "| `5`    | `Y`    |\n",
    "| `6`    | `Z`    |\n",
    "\n",
    "* Z-test: `x: ZZZZZ, y:abcd?`, where $a,b,c,d\\in\\{+,-\\}$ \n",
    "* X-test: `x: XXXXX, y:abcd?`, where $a,b,c,d\\in\\{+,-\\}$ \n",
    "* XZ-test: `x: XXXXZ, y:abcd?`, where $a,b,c,d\\in\\{+,-\\}$ \n",
    "\n",
    "Collect data:"
   ]
  },
  {
   "cell_type": "code",
   "execution_count": 61,
   "id": "5e74cc48-9519-4807-b7a9-4be665d93ddb",
   "metadata": {},
   "outputs": [],
   "source": [
    "data = {}\n",
    "y0 = torch.cartesian_prod(*[torch.tensor([1,2])]*4)\n",
    "y = torch.cat([y0,torch.zeros(y.shape[0], dtype=torch.long)[:,None]],1)\n",
    "x = torch.zeros_like(y) + 6\n",
    "data['obs'] = y0.tolist()\n",
    "with torch.no_grad():\n",
    "    for name, mdl in mdls.items():\n",
    "        logit = mdl.transformer(x, y)[:,-1]\n",
    "        data[name] = logit.tolist()\n",
    "with open('./data/z_test.dat', 'wb') as f:\n",
    "    pickle.dump(data, f)"
   ]
  },
  {
   "cell_type": "code",
   "execution_count": 62,
   "id": "b9f049cb-d9ea-4102-9d7a-7bfa5a8bcf7e",
   "metadata": {},
   "outputs": [],
   "source": [
    "data = {}\n",
    "y0 = torch.cartesian_prod(*[torch.tensor([1,2])]*4)\n",
    "y = torch.cat([y0,torch.zeros(y.shape[0], dtype=torch.long)[:,None]],1)\n",
    "x = torch.zeros_like(y) + 4\n",
    "data['obs'] = y0.tolist()\n",
    "with torch.no_grad():\n",
    "    for name, mdl in mdls.items():\n",
    "        logit = mdl.transformer(x, y)[:,-1]\n",
    "        data[name] = logit.tolist()\n",
    "with open('./data/x_test.dat', 'wb') as f:\n",
    "    pickle.dump(data, f)"
   ]
  },
  {
   "cell_type": "code",
   "execution_count": 63,
   "id": "0121429e-5222-4e59-b325-1c373153d27d",
   "metadata": {},
   "outputs": [],
   "source": [
    "data = {}\n",
    "y0 = torch.cartesian_prod(*[torch.tensor([1,2])]*4)\n",
    "y = torch.cat([y0,torch.zeros(y.shape[0], dtype=torch.long)[:,None]],1)\n",
    "x = torch.zeros_like(y) + 4\n",
    "x[:,-1] = 6\n",
    "data['obs'] = y0.tolist()\n",
    "with torch.no_grad():\n",
    "    for name, mdl in mdls.items():\n",
    "        logit = mdl.transformer(x, y)[:,-1]\n",
    "        data[name] = logit.tolist()\n",
    "with open('./data/xz_test.dat', 'wb') as f:\n",
    "    pickle.dump(data, f)"
   ]
  },
  {
   "cell_type": "markdown",
   "id": "b4121d1b-7b9b-4d56-8a91-9f417bd111d4",
   "metadata": {},
   "source": [
    "### Density Matrix Reconstruction"
   ]
  },
  {
   "cell_type": "markdown",
   "id": "d13ffa88-acd2-4ae2-9780-7bf3756fbad8",
   "metadata": {},
   "source": [
    "Reconstruct density matrices for representative models."
   ]
  },
  {
   "cell_type": "code",
   "execution_count": 65,
   "id": "f5c7d2ef-8f38-4ee0-bdb2-69a2f8d20406",
   "metadata": {},
   "outputs": [],
   "source": [
    "data = {}\n",
    "for name, mdl in mdls.items():\n",
    "    with torch.no_grad():\n",
    "        rho = mdl.rho().matrix_form()/2**mdl.n_qubit # reconstruction\n",
    "    data[name] = rho.tolist()\n",
    "with open('./data/rhos.dat', 'wb') as f:\n",
    "    pickle.dump(data, f)"
   ]
  },
  {
   "cell_type": "markdown",
   "id": "6e9ee244-b0d1-4b1d-ac86-9480ede70816",
   "metadata": {},
   "source": [
    "### Latent Space Structure"
   ]
  },
  {
   "cell_type": "code",
   "execution_count": 92,
   "id": "96276cb9-cb86-44c7-b1db-bfc53ebefc1f",
   "metadata": {},
   "outputs": [],
   "source": [
    "from sklearn.manifold import TSNE\n",
    "tsne = TSNE(2)\n",
    "x = torch.cartesian_prod(*[torch.tensor([4,5,6])]*5)\n",
    "data = {'x': (x-3).tolist()}\n",
    "for name, mdl in mdls.items():\n",
    "    with torch.no_grad():\n",
    "        src = mdl.transformer.embed(x)\n",
    "        mem = mdl.transformer.encode(src)\n",
    "    mem = mem.view(mem.shape[0],-1)\n",
    "    z = tsne.fit_transform(mem)\n",
    "    data[name] = z.tolist()\n",
    "with open('./data/z_embed.dat', 'wb') as f:\n",
    "    pickle.dump(data, f)"
   ]
  },
  {
   "cell_type": "code",
   "execution_count": null,
   "id": "25f8a2d9-d199-4188-8bb3-76c68ba4a9ec",
   "metadata": {},
   "outputs": [],
   "source": []
  }
 ],
 "metadata": {
  "kernelspec": {
   "display_name": "Python 3 (ipykernel)",
   "language": "python",
   "name": "python3"
  },
  "language_info": {
   "codemirror_mode": {
    "name": "ipython",
    "version": 3
   },
   "file_extension": ".py",
   "mimetype": "text/x-python",
   "name": "python",
   "nbconvert_exporter": "python",
   "pygments_lexer": "ipython3",
   "version": "3.9.12"
  }
 },
 "nbformat": 4,
 "nbformat_minor": 5
}
