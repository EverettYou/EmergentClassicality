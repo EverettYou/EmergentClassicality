{
 "cells": [
  {
   "cell_type": "code",
   "execution_count": 46,
   "metadata": {},
   "outputs": [
    {
     "ename": "ImportError",
     "evalue": "cannot import name 'delay' from 'qiskit' (/Users/thijs/opt/anaconda3/envs/emergent_classicality/lib/python3.11/site-packages/qiskit/__init__.py)",
     "output_type": "error",
     "traceback": [
      "\u001b[0;31m---------------------------------------------------------------------------\u001b[0m",
      "\u001b[0;31mImportError\u001b[0m                               Traceback (most recent call last)",
      "\u001b[1;32m/Users/thijs/Documents/Studiejaar5/Orientation Team Project/Python/Emergent-Classicality/simulate_initial_states_qiskit.ipynb Cell 1\u001b[0m line \u001b[0;36m2\n\u001b[1;32m      <a href='vscode-notebook-cell:/Users/thijs/Documents/Studiejaar5/Orientation%20Team%20Project/Python/Emergent-Classicality/simulate_initial_states_qiskit.ipynb#X10sZmlsZQ%3D%3D?line=0'>1</a>\u001b[0m \u001b[39m# Import the necessary libraries\u001b[39;00m\n\u001b[0;32m----> <a href='vscode-notebook-cell:/Users/thijs/Documents/Studiejaar5/Orientation%20Team%20Project/Python/Emergent-Classicality/simulate_initial_states_qiskit.ipynb#X10sZmlsZQ%3D%3D?line=1'>2</a>\u001b[0m \u001b[39mfrom\u001b[39;00m \u001b[39mqiskit\u001b[39;00m \u001b[39mimport\u001b[39;00m QuantumCircuit, transpile, Aer, execute, delay\n\u001b[1;32m      <a href='vscode-notebook-cell:/Users/thijs/Documents/Studiejaar5/Orientation%20Team%20Project/Python/Emergent-Classicality/simulate_initial_states_qiskit.ipynb#X10sZmlsZQ%3D%3D?line=2'>3</a>\u001b[0m \u001b[39mimport\u001b[39;00m \u001b[39mmatplotlib\u001b[39;00m\u001b[39m.\u001b[39;00m\u001b[39mpyplot\u001b[39;00m \u001b[39mas\u001b[39;00m \u001b[39mplt\u001b[39;00m\n",
      "\u001b[0;31mImportError\u001b[0m: cannot import name 'delay' from 'qiskit' (/Users/thijs/opt/anaconda3/envs/emergent_classicality/lib/python3.11/site-packages/qiskit/__init__.py)"
     ]
    }
   ],
   "source": [
    "# Import the necessary libraries\n",
    "from qiskit import QuantumCircuit, transpile, Aer, execute\n",
    "import matplotlib.pyplot as plt"
   ]
  },
  {
   "cell_type": "code",
   "execution_count": 74,
   "metadata": {},
   "outputs": [],
   "source": [
    "nr_qubits = 4\n",
    "control_qubit = 0\n"
   ]
  },
  {
   "cell_type": "code",
   "execution_count": 75,
   "metadata": {},
   "outputs": [
    {
     "data": {
      "image/png": "[encoded data removed]",
      "text/plain": [
       "<Figure size 576x576 with 1 Axes>"
      ]
     },
     "metadata": {},
     "output_type": "display_data"
    },
    {
     "data": {
      "image/png": "[encoded data removed]",
      "text/plain": [
       "<Figure size 1584x288 with 1 Axes>"
      ]
     },
     "metadata": {
      "needs_background": "light"
     },
     "output_type": "display_data"
    }
   ],
   "source": [
    "# Create a quantum circuit with 3 qubits\n",
    "qc = QuantumCircuit(nr_qubits)\n",
    "\n",
    "def initialize_all_zeros(nr_qubits):\n",
    "    # Create a quantum circuit with N qubits\n",
    "    qc = QuantumCircuit(nr_qubits)\n",
    "    \n",
    "    # Initialize all qubits in the |0⟩ state\n",
    "    for qubit in range(nr_qubits):\n",
    "        qc.initialize([1, 0], qubit)\n",
    "    \n",
    "    return qc\n",
    "\n",
    "def apply_cnot_chain(qc, control_qubit, nr_qubits):\n",
    "    # Apply CNOT gates from the control qubit to the list of target qubits\n",
    "    for target_qubit in range(nr_qubits-1):\n",
    "        qc.cx(control_qubit, target_qubit+1)\n",
    "\n",
    "\n",
    "\n",
    "\n",
    "qc = initialize_all_zeros(nr_qubits)\n",
    "# Apply a Hadamard gate to qubit 0\n",
    "qc.h(control_qubit)\n",
    "apply_cnot_chain(qc, control_qubit, nr_qubits)\n",
    "\n",
    "\n",
    "\n",
    "\n",
    "# Apply Hadamard gates to all qubits in the X-axis (Hadamard basis)\n",
    "for qubit in range(nr_qubits):\n",
    "    qc.h(qubit)\n",
    "\n",
    "# Add measurements to the circuit\n",
    "qc.measure_all()\n",
    "\n",
    "# Simulate the circuit and get measurement results\n",
    "simulator = Aer.get_backend('qasm_simulator')\n",
    "job = execute(qc, simulator, shots=1024)  # You can adjust the number of shots\n",
    "result = job.result()\n",
    "counts = result.get_counts(qc)\n",
    "\n",
    "# Create a list of binary state labels\n",
    "# state_labels = [format(i, '03b') for i in range(8)]\n",
    "# Create a list of binary state labels for N qubits\n",
    "state_labels = [format(i, '0{0}b'.format(nr_qubits)) for i in range(2**nr_qubits)]\n",
    "\n",
    "\n",
    "# Extract the counts in the order of the state labels\n",
    "state_counts = [counts.get(label, 0) for label in state_labels]\n",
    "\n",
    "# Create a subplot with two plots\n",
    "# fig, axs = plt.subplots(1, 2, figsize=(12, 4))\n",
    "\n",
    "# # Plot the circuit diagram\n",
    "# axs[0].set_title(\"Quantum Circuit\")\n",
    "# qc.draw(output='mpl', ax=axs[0])\n",
    "\n",
    "# # Plot the histogram with x-axis labels\n",
    "# axs[1].set_title(\"Measurement Results\")\n",
    "# axs[1].bar(state_labels, state_counts)\n",
    "# axs[1].set_xlabel('Binary States')\n",
    "# axs[1].set_ylabel('Counts')\n",
    "\n",
    "# # Adjust spacing between subplots\n",
    "# plt.tight_layout()\n",
    "\n",
    "# # Show both plots\n",
    "# plt.show()\n",
    "\n",
    "# fig_qc = plt.figure(figsize=(8, 8))\n",
    "# ax_qc = fig_qc.add_subplot(111)\n",
    "# ax_qc.set_title(\"Quantum Circuit\")\n",
    "# qc.draw(output='mpl', ax=ax_qc)\n",
    "\n",
    "# # Create a figure for the histogram plot\n",
    "# fig_hist = plt.figure(figsize=(22, 4))\n",
    "# ax_hist = fig_hist.add_subplot(111)\n",
    "# ax_hist.set_title(\"Measurement Results\")\n",
    "# ax_hist.bar(state_labels, state_counts)\n",
    "# ax_hist.set_xlabel('Binary States')\n",
    "# ax_hist.set_ylabel('Counts')\n",
    "\n",
    "# # Show both plots separately\n",
    "# plt.show()\n",
    "\n",
    "# Create a figure for the quantum circuit diagram\n",
    "fig_qc = plt.figure(figsize=(8, 8))\n",
    "ax_qc = fig_qc.add_subplot(111)\n",
    "ax_qc.set_title(\"Quantum Circuit\")\n",
    "\n",
    "# Set the background color of the entire figure to white\n",
    "fig_qc.patch.set_facecolor('white')\n",
    "\n",
    "# Draw the quantum circuit\n",
    "qc.draw(output='mpl', ax=ax_qc)\n",
    "\n",
    "# Create a figure for the histogram plot\n",
    "fig_hist = plt.figure(figsize=(22, 4))\n",
    "ax_hist = fig_hist.add_subplot(111)\n",
    "ax_hist.set_title(\"Measurement Results\")\n",
    "ax_hist.bar(state_labels, state_counts)\n",
    "ax_hist.set_xlabel('Binary States')\n",
    "ax_hist.set_ylabel('Counts')\n",
    "\n",
    "# Show both plots separately\n",
    "plt.show()\n",
    "\n",
    "\n"
   ]
  },
  {
   "cell_type": "code",
   "execution_count": null,
   "metadata": {},
   "outputs": [],
   "source": []
  },
  {
   "cell_type": "code",
   "execution_count": null,
   "metadata": {},
   "outputs": [],
   "source": []
  },
  {
   "cell_type": "code",
   "execution_count": null,
   "metadata": {},
   "outputs": [],
   "source": []
  },
  {
   "cell_type": "code",
   "execution_count": null,
   "metadata": {},
   "outputs": [],
   "source": []
  },
  {
   "cell_type": "code",
   "execution_count": null,
   "metadata": {},
   "outputs": [],
   "source": []
  },
  {
   "cell_type": "code",
   "execution_count": 29,
   "metadata": {},
   "outputs": [
    {
     "data": {
      "image/png": "[encoded data removed]",
      "text/plain": [
       "<Figure size 432x288 with 1 Axes>"
      ]
     },
     "metadata": {
      "needs_background": "light"
     },
     "output_type": "display_data"
    }
   ],
   "source": [
    "\n",
    "\n",
    "# Create a quantum circuit with 3 qubits\n",
    "qc = QuantumCircuit(3)\n",
    "\n",
    "# Initialize all qubits in the |0⟩ state\n",
    "qc.initialize([1, 0], 0)  # Initialize qubit 0 in |0⟩\n",
    "qc.initialize([1, 0], 1)  # Initialize qubit 1 in |0⟩\n",
    "qc.initialize([1, 0], 2)  # Initialize qubit 2 in |0⟩\n",
    "\n",
    "# Apply a Hadamard gate to qubit 0\n",
    "qc.h(0)\n",
    "\n",
    "# Apply CNOT gates from qubit 0 to qubits 1 and 2\n",
    "qc.cx(0, 1)  # CNOT from qubit 0 to qubit 1\n",
    "qc.cx(0, 2)  # CNOT from qubit 0 to qubit 2\n",
    "\n",
    "# Measure all qubits in the X-axis (Hadamard basis)\n",
    "qc.h(0)\n",
    "qc.h(1)\n",
    "qc.h(2)\n",
    "\n",
    "# Add measurements to the circuit\n",
    "qc.measure_all()\n",
    "qc.draw(output='mpl')\n",
    "plt.show()\n",
    "\n",
    "\n",
    "# Simulate the circuit and get measurement results\n",
    "simulator = Aer.get_backend('qasm_simulator')\n",
    "job = execute(qc, simulator, shots=1024)  # You can adjust the number of shots\n",
    "result = job.result()\n",
    "counts = result.get_counts(qc)\n",
    "\n",
    "# Create a list of binary state labels\n",
    "state_labels = [format(i, '03b') for i in range(8)]\n",
    "\n",
    "# Extract the counts in the order of the state labels\n",
    "state_counts = [counts.get(label, 0) for label in state_labels]\n",
    "\n",
    "# Create a bar chart with x-axis labels\n",
    "plt.bar(state_labels, state_counts)\n",
    "plt.xlabel('Binary States')\n",
    "plt.ylabel('Counts')\n",
    "plt.title('Measurement Results')\n",
    "plt.show()\n"
   ]
  },
  {
   "cell_type": "code",
   "execution_count": null,
   "metadata": {},
   "outputs": [],
   "source": []
  },
  {
   "cell_type": "code",
   "execution_count": 30,
   "metadata": {},
   "outputs": [
    {
     "data": {
      "image/png": "[encoded data removed]",
      "text/plain": [
       "<Figure size 864x288 with 2 Axes>"
      ]
     },
     "metadata": {
      "needs_background": "light"
     },
     "output_type": "display_data"
    }
   ],
   "source": [
    "# Create a quantum circuit with 3 qubits\n",
    "qc = QuantumCircuit(3)\n",
    "\n",
    "# Initialize all qubits in the |0⟩ state\n",
    "qc.initialize([1, 0], 0)  # Initialize qubit 0 in |0⟩\n",
    "qc.initialize([1, 0], 1)  # Initialize qubit 1 in |0⟩\n",
    "qc.initialize([1, 0], 2)  # Initialize qubit 2 in |0⟩\n",
    "\n",
    "# Apply a Hadamard gate to qubit 0\n",
    "qc.h(0)\n",
    "\n",
    "# Apply CNOT gates from qubit 0 to qubits 1 and 2\n",
    "qc.cx(0, 1)  # CNOT from qubit 0 to qubit 1\n",
    "qc.cx(0, 2)  # CNOT from qubit 0 to qubit 2\n",
    "\n",
    "# Measure all qubits in the X-axis (Hadamard basis)\n",
    "qc.h(0)\n",
    "qc.h(1)\n",
    "qc.h(2)\n",
    "\n",
    "# Add measurements to the circuit\n",
    "qc.measure_all()\n",
    "\n",
    "# Simulate the circuit and get measurement results\n",
    "simulator = Aer.get_backend('qasm_simulator')\n",
    "job = execute(qc, simulator, shots=1024)  # You can adjust the number of shots\n",
    "result = job.result()\n",
    "counts = result.get_counts(qc)\n",
    "\n",
    "# Create a list of binary state labels\n",
    "state_labels = [format(i, '03b') for i in range(8)]\n",
    "\n",
    "# Extract the counts in the order of the state labels\n",
    "state_counts = [counts.get(label, 0) for label in state_labels]\n",
    "\n",
    "# Create a subplot with two plots\n",
    "fig, axs = plt.subplots(1, 2, figsize=(12, 4))\n",
    "\n",
    "# Plot the circuit diagram\n",
    "axs[0].set_title(\"Quantum Circuit\")\n",
    "qc.draw(output='mpl', ax=axs[0])\n",
    "\n",
    "# Plot the histogram with x-axis labels\n",
    "axs[1].set_title(\"Measurement Results\")\n",
    "axs[1].bar(state_labels, state_counts)\n",
    "axs[1].set_xlabel('Binary States')\n",
    "axs[1].set_ylabel('Counts')\n",
    "\n",
    "# Adjust spacing between subplots\n",
    "plt.tight_layout()\n",
    "\n",
    "# Show both plots\n",
    "plt.show()\n"
   ]
  },
  {
   "cell_type": "code",
   "execution_count": null,
   "metadata": {},
   "outputs": [],
   "source": []
  }
 ],
 "metadata": {
  "kernelspec": {
   "display_name": "emergent_classicality",
   "language": "python",
   "name": "python3"
  },
  "language_info": {
   "codemirror_mode": {
    "name": "ipython",
    "version": 3
   },
   "file_extension": ".py",
   "mimetype": "text/x-python",
   "name": "python",
   "nbconvert_exporter": "python",
   "pygments_lexer": "ipython3",
   "version": "3.11.5"
  },
  "orig_nbformat": 4
 },
 "nbformat": 4,
 "nbformat_minor": 2
}
